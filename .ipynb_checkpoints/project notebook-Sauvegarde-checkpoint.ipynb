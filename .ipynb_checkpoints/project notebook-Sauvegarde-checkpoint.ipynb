{
 "cells": [
  {
   "cell_type": "markdown",
   "id": "4faeb3ff",
   "metadata": {},
   "source": [
    "# Project description\n",
    "\n",
    "\n",
    "Ask a buyer to describe their dream home and they probably won't start with basement ceiling height or proximity to an east-west rail line. But the data set from this playground contest proves that price negotiations are influenced by much more than the number of bedrooms or a white picket fence.\n",
    "\n",
    "![](https://storage.googleapis.com/kaggle-competitions/kaggle/5407/media/housesbanner.png)\n",
    "\n",
    "This dataset contains 79 explanatory variables describing almost every aspect of residential homes in Ames, Iowa. "
   ]
  },
  {
   "cell_type": "markdown",
   "id": "a63194d9",
   "metadata": {},
   "source": [
    "**Goal:** It is your job to predict the sales price for each house using everything you have learned so far. If **you use a model not presented in class, you must justify it, explain how it works and describe precisely the role of each of the hyper-parameters**. For each Id in the test set, you must predict the value of the SalePrice variable. \n",
    "\n",
    "**Metric:** Predictions are evaluated on Root-Mean-Squared-Error (RMSE) between the logarithm of the predicted value and the logarithm of the observed sales price. (Taking logs means that errors in predicting expensive houses and cheap houses will affect the result equally.)\n",
    "\n",
    "**Homework submission**: You must upload a zip archive containing 3 files to``lms.univ-cotedazur.fr`:\n",
    "\n",
    "* A `pdf` report describing for each of the selected features the treatment performed\n",
    "* A `jupyter notebook` performing the preprocessing, each step of which is inserted into a sklearn or imblearn pipeline (you must leave traces of notebook executions. The first cell should have the number 1, the second the number 2, etc.)\n",
    "* A `result.csv` should contain your prediction for each of the properties in tthe test set in the the following format:\n",
    "<pre>\n",
    "        Id,SalePrice\n",
    "        1461,169000.9876\n",
    "        1462,187724.1233\n",
    "        1463,175221.1928\n",
    "        etc.\n",
    "</pre>\n",
    "\n",
    "The scale will be as follows:\n",
    "* 8 points on the quality of the preprocessing and its description from the report \n",
    "* 8 points on the quality and correctness of the code contained in the notebook\n",
    "* 4 points on the quality of the model produced"
   ]
  },
  {
   "cell_type": "markdown",
   "id": "cd1dab3d",
   "metadata": {},
   "source": [
    "Here's a brief version of what you'll find in the data description file.\n",
    "\n",
    "* SalePrice - the property's sale price in dollars. This is the target variable that you're trying to predict.\n",
    "* MSSubClass: The building class\n",
    "* MSZoning: The general zoning classification\n",
    "* LotFrontage: Linear feet of street connected to property\n",
    "* LotArea: Lot size in square feet\n",
    "* Street: Type of road access\n",
    "* Alley: Type of alley access\n",
    "* LotShape: General shape of property\n",
    "* LandContour: Flatness of the property\n",
    "* Utilities: Type of utilities available\n",
    "* LotConfig: Lot configuration\n",
    "* LandSlope: Slope of property\n",
    "* Neighborhood: Physical locations within Ames city limits\n",
    "* Condition1: Proximity to main road or railroad\n",
    "* Condition2: Proximity to main road or railroad (if a second is present)\n",
    "* BldgType: Type of dwelling\n",
    "* HouseStyle: Style of dwelling\n",
    "* OverallQual: Overall material and finish quality\n",
    "* OverallCond: Overall condition rating\n",
    "* YearBuilt: Original construction date\n",
    "* YearRemodAdd: Remodel date\n",
    "* RoofStyle: Type of roof\n",
    "* RoofMatl: Roof material\n",
    "* Exterior1st: Exterior covering on house\n",
    "* Exterior2nd: Exterior covering on house (if more than one material)\n",
    "* MasVnrType: Masonry veneer type\n",
    "* MasVnrArea: Masonry veneer area in square feet\n",
    "* ExterQual: Exterior material quality\n",
    "* ExterCond: Present condition of the material on the exterior\n",
    "* Foundation: Type of foundation\n",
    "* BsmtQual: Height of the basement\n",
    "* BsmtCond: General condition of the basement\n",
    "* BsmtExposure: Walkout or garden level basement walls\n",
    "* BsmtFinType1: Quality of basement finished area\n",
    "* BsmtFinSF1: Type 1 finished square feet\n",
    "* BsmtFinType2: Quality of second finished area (if present)\n",
    "* BsmtFinSF2: Type 2 finished square feet\n",
    "* BsmtUnfSF: Unfinished square feet of basement area\n",
    "* TotalBsmtSF: Total square feet of basement area\n",
    "* Heating: Type of heating\n",
    "* HeatingQC: Heating quality and condition\n",
    "* CentralAir: Central air conditioning\n",
    "* Electrical: Electrical system\n",
    "* 1stFlrSF: First Floor square feet\n",
    "* 2ndFlrSF: Second floor square feet\n",
    "* LowQualFinSF: Low quality finished square feet (all floors)\n",
    "* GrLivArea: Above grade (ground) living area square feet\n",
    "* BsmtFullBath: Basement full bathrooms\n",
    "* BsmtHalfBath: Basement half bathrooms\n",
    "* FullBath: Full bathrooms above grade\n",
    "* HalfBath: Half baths above grade\n",
    "* Bedroom: Number of bedrooms above basement level\n",
    "* Kitchen: Number of kitchens\n",
    "* KitchenQual: Kitchen quality\n",
    "* TotRmsAbvGrd: Total rooms above grade (does not include bathrooms)\n",
    "* Functional: Home functionality rating\n",
    "* Fireplaces: Number of fireplaces\n",
    "* FireplaceQu: Fireplace quality\n",
    "* GarageType: Garage location\n",
    "* GarageYrBlt: Year garage was built\n",
    "* GarageFinish: Interior finish of the garage\n",
    "* GarageCars: Size of garage in car capacity\n",
    "* GarageArea: Size of garage in square feet\n",
    "* GarageQual: Garage quality\n",
    "* GarageCond: Garage condition\n",
    "* PavedDrive: Paved driveway\n",
    "* WoodDeckSF: Wood deck area in square feet\n",
    "* OpenPorchSF: Open porch area in square feet\n",
    "* EnclosedPorch: Enclosed porch area in square feet\n",
    "* 3SsnPorch: Three season porch area in square feet\n",
    "* ScreenPorch: Screen porch area in square feet\n",
    "* PoolArea: Pool area in square feet\n",
    "* PoolQC: Pool quality\n",
    "* Fence: Fence quality\n",
    "* MiscFeature: Miscellaneous feature not covered in other categories\n",
    "* MiscVal: $Value of miscellaneous feature\n",
    "* MoSold: Month Sold\n",
    "* YrSold: Year Sold\n",
    "* SaleType: Type of sale\n",
    "* SaleCondition: Condition of sale\n",
    "\n",
    "more detail about the features on `data_description.txt`files"
   ]
  },
  {
   "cell_type": "code",
   "execution_count": 70,
   "id": "856a8816",
   "metadata": {},
   "outputs": [],
   "source": [
    "#Librairies\n",
    "import pandas as pd\n",
    "import seaborn as sns\n",
    "import numpy as np\n",
    "import matplotlib.pyplot as plt\n",
    "from pandas import DataFrame\n",
    "from sklearn.preprocessing import Normalizer, MinMaxScaler\n",
    "from sklearn.feature_extraction.text import TfidfVectorizer\n",
    "np.seterr(divide = 'ignore')\n",
    "from sklearn.metrics import accuracy_score\n",
    "from sklearn.tree import DecisionTreeClassifier\n",
    "\n",
    "\n",
    "\n",
    "\n"
   ]
  },
  {
   "cell_type": "code",
   "execution_count": 81,
   "id": "1ac7e205",
   "metadata": {},
   "outputs": [],
   "source": [
    "\n",
    "import seaborn as sns\n",
    "from sklearn.linear_model import LinearRegression, Ridge, Lasso\n",
    "from sklearn.ensemble import RandomForestRegressor, GradientBoostingRegressor\n",
    "from sklearn.svm import SVR\n",
    "from sklearn.neighbors import KNeighborsRegressor\n",
    "from sklearn.impute import SimpleImputer\n",
    "from sklearn.ensemble import BaggingRegressor\n",
    "from sklearn.metrics import mean_squared_error\n",
    "from sklearn.linear_model import LogisticRegression,LinearRegression"
   ]
  },
  {
   "cell_type": "code",
   "execution_count": 3,
   "id": "ecc0e2b8",
   "metadata": {
    "ExecuteTime": {
     "end_time": "2022-11-24T10:32:28.816389Z",
     "start_time": "2022-11-24T10:32:28.771189Z"
    }
   },
   "outputs": [
    {
     "name": "stdout",
     "output_type": "stream",
     "text": [
      "1000\n"
     ]
    },
    {
     "data": {
      "text/html": [
       "<div>\n",
       "<style scoped>\n",
       "    .dataframe tbody tr th:only-of-type {\n",
       "        vertical-align: middle;\n",
       "    }\n",
       "\n",
       "    .dataframe tbody tr th {\n",
       "        vertical-align: top;\n",
       "    }\n",
       "\n",
       "    .dataframe thead th {\n",
       "        text-align: right;\n",
       "    }\n",
       "</style>\n",
       "<table border=\"1\" class=\"dataframe\">\n",
       "  <thead>\n",
       "    <tr style=\"text-align: right;\">\n",
       "      <th></th>\n",
       "      <th>MSSubClass</th>\n",
       "      <th>MSZoning</th>\n",
       "      <th>LotFrontage</th>\n",
       "      <th>LotArea</th>\n",
       "      <th>Street</th>\n",
       "      <th>Alley</th>\n",
       "      <th>LotShape</th>\n",
       "      <th>LandContour</th>\n",
       "      <th>Utilities</th>\n",
       "      <th>LotConfig</th>\n",
       "      <th>...</th>\n",
       "      <th>PoolArea</th>\n",
       "      <th>PoolQC</th>\n",
       "      <th>Fence</th>\n",
       "      <th>MiscFeature</th>\n",
       "      <th>MiscVal</th>\n",
       "      <th>MoSold</th>\n",
       "      <th>YrSold</th>\n",
       "      <th>SaleType</th>\n",
       "      <th>SaleCondition</th>\n",
       "      <th>SalePrice</th>\n",
       "    </tr>\n",
       "  </thead>\n",
       "  <tbody>\n",
       "    <tr>\n",
       "      <th>0</th>\n",
       "      <td>60</td>\n",
       "      <td>RL</td>\n",
       "      <td>65.0</td>\n",
       "      <td>8450</td>\n",
       "      <td>Pave</td>\n",
       "      <td>NaN</td>\n",
       "      <td>Reg</td>\n",
       "      <td>Lvl</td>\n",
       "      <td>AllPub</td>\n",
       "      <td>Inside</td>\n",
       "      <td>...</td>\n",
       "      <td>0</td>\n",
       "      <td>NaN</td>\n",
       "      <td>NaN</td>\n",
       "      <td>NaN</td>\n",
       "      <td>0</td>\n",
       "      <td>2</td>\n",
       "      <td>2008</td>\n",
       "      <td>WD</td>\n",
       "      <td>Normal</td>\n",
       "      <td>208500</td>\n",
       "    </tr>\n",
       "    <tr>\n",
       "      <th>1</th>\n",
       "      <td>20</td>\n",
       "      <td>RL</td>\n",
       "      <td>80.0</td>\n",
       "      <td>9600</td>\n",
       "      <td>Pave</td>\n",
       "      <td>NaN</td>\n",
       "      <td>Reg</td>\n",
       "      <td>Lvl</td>\n",
       "      <td>AllPub</td>\n",
       "      <td>FR2</td>\n",
       "      <td>...</td>\n",
       "      <td>0</td>\n",
       "      <td>NaN</td>\n",
       "      <td>NaN</td>\n",
       "      <td>NaN</td>\n",
       "      <td>0</td>\n",
       "      <td>5</td>\n",
       "      <td>2007</td>\n",
       "      <td>WD</td>\n",
       "      <td>Normal</td>\n",
       "      <td>181500</td>\n",
       "    </tr>\n",
       "    <tr>\n",
       "      <th>2</th>\n",
       "      <td>60</td>\n",
       "      <td>RL</td>\n",
       "      <td>68.0</td>\n",
       "      <td>11250</td>\n",
       "      <td>Pave</td>\n",
       "      <td>NaN</td>\n",
       "      <td>IR1</td>\n",
       "      <td>Lvl</td>\n",
       "      <td>AllPub</td>\n",
       "      <td>Inside</td>\n",
       "      <td>...</td>\n",
       "      <td>0</td>\n",
       "      <td>NaN</td>\n",
       "      <td>NaN</td>\n",
       "      <td>NaN</td>\n",
       "      <td>0</td>\n",
       "      <td>9</td>\n",
       "      <td>2008</td>\n",
       "      <td>WD</td>\n",
       "      <td>Normal</td>\n",
       "      <td>223500</td>\n",
       "    </tr>\n",
       "    <tr>\n",
       "      <th>3</th>\n",
       "      <td>70</td>\n",
       "      <td>RL</td>\n",
       "      <td>60.0</td>\n",
       "      <td>9550</td>\n",
       "      <td>Pave</td>\n",
       "      <td>NaN</td>\n",
       "      <td>IR1</td>\n",
       "      <td>Lvl</td>\n",
       "      <td>AllPub</td>\n",
       "      <td>Corner</td>\n",
       "      <td>...</td>\n",
       "      <td>0</td>\n",
       "      <td>NaN</td>\n",
       "      <td>NaN</td>\n",
       "      <td>NaN</td>\n",
       "      <td>0</td>\n",
       "      <td>2</td>\n",
       "      <td>2006</td>\n",
       "      <td>WD</td>\n",
       "      <td>Abnorml</td>\n",
       "      <td>140000</td>\n",
       "    </tr>\n",
       "    <tr>\n",
       "      <th>4</th>\n",
       "      <td>60</td>\n",
       "      <td>RL</td>\n",
       "      <td>84.0</td>\n",
       "      <td>14260</td>\n",
       "      <td>Pave</td>\n",
       "      <td>NaN</td>\n",
       "      <td>IR1</td>\n",
       "      <td>Lvl</td>\n",
       "      <td>AllPub</td>\n",
       "      <td>FR2</td>\n",
       "      <td>...</td>\n",
       "      <td>0</td>\n",
       "      <td>NaN</td>\n",
       "      <td>NaN</td>\n",
       "      <td>NaN</td>\n",
       "      <td>0</td>\n",
       "      <td>12</td>\n",
       "      <td>2008</td>\n",
       "      <td>WD</td>\n",
       "      <td>Normal</td>\n",
       "      <td>250000</td>\n",
       "    </tr>\n",
       "  </tbody>\n",
       "</table>\n",
       "<p>5 rows × 80 columns</p>\n",
       "</div>"
      ],
      "text/plain": [
       "   MSSubClass MSZoning  LotFrontage  LotArea Street Alley LotShape  \\\n",
       "0          60       RL         65.0     8450   Pave   NaN      Reg   \n",
       "1          20       RL         80.0     9600   Pave   NaN      Reg   \n",
       "2          60       RL         68.0    11250   Pave   NaN      IR1   \n",
       "3          70       RL         60.0     9550   Pave   NaN      IR1   \n",
       "4          60       RL         84.0    14260   Pave   NaN      IR1   \n",
       "\n",
       "  LandContour Utilities LotConfig  ... PoolArea PoolQC Fence MiscFeature  \\\n",
       "0         Lvl    AllPub    Inside  ...        0    NaN   NaN         NaN   \n",
       "1         Lvl    AllPub       FR2  ...        0    NaN   NaN         NaN   \n",
       "2         Lvl    AllPub    Inside  ...        0    NaN   NaN         NaN   \n",
       "3         Lvl    AllPub    Corner  ...        0    NaN   NaN         NaN   \n",
       "4         Lvl    AllPub       FR2  ...        0    NaN   NaN         NaN   \n",
       "\n",
       "  MiscVal MoSold  YrSold  SaleType  SaleCondition  SalePrice  \n",
       "0       0      2    2008        WD         Normal     208500  \n",
       "1       0      5    2007        WD         Normal     181500  \n",
       "2       0      9    2008        WD         Normal     223500  \n",
       "3       0      2    2006        WD        Abnorml     140000  \n",
       "4       0     12    2008        WD         Normal     250000  \n",
       "\n",
       "[5 rows x 80 columns]"
      ]
     },
     "execution_count": 3,
     "metadata": {},
     "output_type": "execute_result"
    }
   ],
   "source": [
    "# Read train files\n",
    "\n",
    "df_train = pd.read_csv(\"train.csv\", index_col=0)\n",
    "print(len(df_train))\n",
    "df_train.head()"
   ]
  },
  {
   "cell_type": "code",
   "execution_count": 4,
   "id": "a5b7fb63",
   "metadata": {
    "ExecuteTime": {
     "end_time": "2022-11-24T10:32:28.848236Z",
     "start_time": "2022-11-24T10:32:28.818238Z"
    }
   },
   "outputs": [
    {
     "name": "stdout",
     "output_type": "stream",
     "text": [
      "460\n"
     ]
    },
    {
     "data": {
      "text/html": [
       "<div>\n",
       "<style scoped>\n",
       "    .dataframe tbody tr th:only-of-type {\n",
       "        vertical-align: middle;\n",
       "    }\n",
       "\n",
       "    .dataframe tbody tr th {\n",
       "        vertical-align: top;\n",
       "    }\n",
       "\n",
       "    .dataframe thead th {\n",
       "        text-align: right;\n",
       "    }\n",
       "</style>\n",
       "<table border=\"1\" class=\"dataframe\">\n",
       "  <thead>\n",
       "    <tr style=\"text-align: right;\">\n",
       "      <th></th>\n",
       "      <th>MSSubClass</th>\n",
       "      <th>MSZoning</th>\n",
       "      <th>LotFrontage</th>\n",
       "      <th>LotArea</th>\n",
       "      <th>Street</th>\n",
       "      <th>Alley</th>\n",
       "      <th>LotShape</th>\n",
       "      <th>LandContour</th>\n",
       "      <th>Utilities</th>\n",
       "      <th>LotConfig</th>\n",
       "      <th>...</th>\n",
       "      <th>ScreenPorch</th>\n",
       "      <th>PoolArea</th>\n",
       "      <th>PoolQC</th>\n",
       "      <th>Fence</th>\n",
       "      <th>MiscFeature</th>\n",
       "      <th>MiscVal</th>\n",
       "      <th>MoSold</th>\n",
       "      <th>YrSold</th>\n",
       "      <th>SaleType</th>\n",
       "      <th>SaleCondition</th>\n",
       "    </tr>\n",
       "    <tr>\n",
       "      <th>id</th>\n",
       "      <th></th>\n",
       "      <th></th>\n",
       "      <th></th>\n",
       "      <th></th>\n",
       "      <th></th>\n",
       "      <th></th>\n",
       "      <th></th>\n",
       "      <th></th>\n",
       "      <th></th>\n",
       "      <th></th>\n",
       "      <th></th>\n",
       "      <th></th>\n",
       "      <th></th>\n",
       "      <th></th>\n",
       "      <th></th>\n",
       "      <th></th>\n",
       "      <th></th>\n",
       "      <th></th>\n",
       "      <th></th>\n",
       "      <th></th>\n",
       "      <th></th>\n",
       "    </tr>\n",
       "  </thead>\n",
       "  <tbody>\n",
       "    <tr>\n",
       "      <th>1000</th>\n",
       "      <td>20</td>\n",
       "      <td>RL</td>\n",
       "      <td>74.0</td>\n",
       "      <td>10206</td>\n",
       "      <td>Pave</td>\n",
       "      <td>NaN</td>\n",
       "      <td>Reg</td>\n",
       "      <td>Lvl</td>\n",
       "      <td>AllPub</td>\n",
       "      <td>Corner</td>\n",
       "      <td>...</td>\n",
       "      <td>0</td>\n",
       "      <td>0</td>\n",
       "      <td>NaN</td>\n",
       "      <td>NaN</td>\n",
       "      <td>NaN</td>\n",
       "      <td>0</td>\n",
       "      <td>7</td>\n",
       "      <td>2009</td>\n",
       "      <td>WD</td>\n",
       "      <td>Normal</td>\n",
       "    </tr>\n",
       "    <tr>\n",
       "      <th>1001</th>\n",
       "      <td>30</td>\n",
       "      <td>RL</td>\n",
       "      <td>60.0</td>\n",
       "      <td>5400</td>\n",
       "      <td>Pave</td>\n",
       "      <td>NaN</td>\n",
       "      <td>Reg</td>\n",
       "      <td>Lvl</td>\n",
       "      <td>AllPub</td>\n",
       "      <td>Corner</td>\n",
       "      <td>...</td>\n",
       "      <td>0</td>\n",
       "      <td>0</td>\n",
       "      <td>NaN</td>\n",
       "      <td>NaN</td>\n",
       "      <td>NaN</td>\n",
       "      <td>0</td>\n",
       "      <td>1</td>\n",
       "      <td>2007</td>\n",
       "      <td>WD</td>\n",
       "      <td>Abnorml</td>\n",
       "    </tr>\n",
       "    <tr>\n",
       "      <th>1002</th>\n",
       "      <td>20</td>\n",
       "      <td>RL</td>\n",
       "      <td>75.0</td>\n",
       "      <td>11957</td>\n",
       "      <td>Pave</td>\n",
       "      <td>NaN</td>\n",
       "      <td>IR1</td>\n",
       "      <td>Lvl</td>\n",
       "      <td>AllPub</td>\n",
       "      <td>Inside</td>\n",
       "      <td>...</td>\n",
       "      <td>0</td>\n",
       "      <td>0</td>\n",
       "      <td>NaN</td>\n",
       "      <td>NaN</td>\n",
       "      <td>NaN</td>\n",
       "      <td>0</td>\n",
       "      <td>7</td>\n",
       "      <td>2008</td>\n",
       "      <td>WD</td>\n",
       "      <td>Normal</td>\n",
       "    </tr>\n",
       "  </tbody>\n",
       "</table>\n",
       "<p>3 rows × 79 columns</p>\n",
       "</div>"
      ],
      "text/plain": [
       "      MSSubClass MSZoning  LotFrontage  LotArea Street Alley LotShape  \\\n",
       "id                                                                      \n",
       "1000          20       RL         74.0    10206   Pave   NaN      Reg   \n",
       "1001          30       RL         60.0     5400   Pave   NaN      Reg   \n",
       "1002          20       RL         75.0    11957   Pave   NaN      IR1   \n",
       "\n",
       "     LandContour Utilities LotConfig  ... ScreenPorch PoolArea PoolQC Fence  \\\n",
       "id                                    ...                                     \n",
       "1000         Lvl    AllPub    Corner  ...           0        0    NaN   NaN   \n",
       "1001         Lvl    AllPub    Corner  ...           0        0    NaN   NaN   \n",
       "1002         Lvl    AllPub    Inside  ...           0        0    NaN   NaN   \n",
       "\n",
       "     MiscFeature MiscVal  MoSold  YrSold  SaleType  SaleCondition  \n",
       "id                                                                 \n",
       "1000         NaN       0       7    2009        WD         Normal  \n",
       "1001         NaN       0       1    2007        WD        Abnorml  \n",
       "1002         NaN       0       7    2008        WD         Normal  \n",
       "\n",
       "[3 rows x 79 columns]"
      ]
     },
     "execution_count": 4,
     "metadata": {},
     "output_type": "execute_result"
    }
   ],
   "source": [
    "# Read test file\n",
    "df_test = pd.read_csv(\"test.csv\", index_col=0)\n",
    "print(len(df_test))\n",
    "df_test.head(3)"
   ]
  },
  {
   "cell_type": "code",
   "execution_count": 5,
   "id": "3e24107f",
   "metadata": {},
   "outputs": [
    {
     "name": "stdout",
     "output_type": "stream",
     "text": [
      "Test shape : (460, 79)\n",
      "Train shape : (1000, 80)\n"
     ]
    }
   ],
   "source": [
    "#Analyzing datasets in order to familiarize with it\n",
    "\n",
    "print(\"Test shape :\",df_test.shape) # 1 less column than train because no SalePrice yet\n",
    "print(\"Train shape :\",df_train.shape)\n",
    "\n",
    "#print(df_train.columns.values)\n",
    "\n"
   ]
  },
  {
   "cell_type": "code",
   "execution_count": 6,
   "id": "a3be958c",
   "metadata": {},
   "outputs": [
    {
     "data": {
      "text/plain": [
       "MSSubClass         int64\n",
       "MSZoning          object\n",
       "LotFrontage      float64\n",
       "LotArea            int64\n",
       "Street            object\n",
       "                  ...   \n",
       "MoSold             int64\n",
       "YrSold             int64\n",
       "SaleType          object\n",
       "SaleCondition     object\n",
       "SalePrice          int64\n",
       "Length: 80, dtype: object"
      ]
     },
     "execution_count": 6,
     "metadata": {},
     "output_type": "execute_result"
    }
   ],
   "source": [
    "df_train.dtypes"
   ]
  },
  {
   "cell_type": "code",
   "execution_count": 7,
   "id": "10d8de8a",
   "metadata": {},
   "outputs": [
    {
     "data": {
      "text/plain": [
       "MSSubClass         int64\n",
       "MSZoning          object\n",
       "LotFrontage      float64\n",
       "LotArea            int64\n",
       "Street            object\n",
       "                  ...   \n",
       "MiscVal            int64\n",
       "MoSold             int64\n",
       "YrSold             int64\n",
       "SaleType          object\n",
       "SaleCondition     object\n",
       "Length: 79, dtype: object"
      ]
     },
     "execution_count": 7,
     "metadata": {},
     "output_type": "execute_result"
    }
   ],
   "source": [
    "df_test.dtypes"
   ]
  },
  {
   "cell_type": "code",
   "execution_count": 8,
   "id": "3b557959",
   "metadata": {},
   "outputs": [],
   "source": [
    "trainFeatureWithNullvalues=DataFrame(df_train.isnull().sum().sort_values(ascending=True)[-10:])"
   ]
  },
  {
   "cell_type": "code",
   "execution_count": 9,
   "id": "79def9e0",
   "metadata": {},
   "outputs": [
    {
     "name": "stdout",
     "output_type": "stream",
     "text": [
      "Features with the most null values for training set :\n",
      "                 0\n",
      "GarageCond     56\n",
      "GarageQual     56\n",
      "GarageFinish   56\n",
      "GarageType     56\n",
      "LotFrontage   173\n",
      "FireplaceQu   478\n",
      "Fence         806\n",
      "Alley         935\n",
      "MiscFeature   957\n",
      "PoolQC        998 \n",
      "\n"
     ]
    }
   ],
   "source": [
    "print(\"Features with the most null values for training set :\\n\",trainFeatureWithNullvalues,\"\\n\")"
   ]
  },
  {
   "cell_type": "code",
   "execution_count": 10,
   "id": "8f4f52ec",
   "metadata": {},
   "outputs": [
    {
     "name": "stdout",
     "output_type": "stream",
     "text": [
      "Features deleted : ['FireplaceQu', 'Fence', 'Alley', 'MiscFeature', 'PoolQC']\n"
     ]
    }
   ],
   "source": [
    "#Cleaning of the datasets\n",
    "#As these features have a lot of null values (more than 50% and up to 99%),\n",
    "#I will drop those columns to have some cleaner training and testing datasets\n",
    "\n",
    "TrainlistToDrop=list(trainFeatureWithNullvalues[0].index[-5:])#Selecting the features with the most null values\n",
    "\n",
    "print(\"Features deleted :\",TrainlistToDrop)\n",
    "\n",
    "df_test.drop(TrainlistToDrop,axis=1,inplace=True)\n",
    "df_train.drop(TrainlistToDrop,axis=1,inplace=True)\n",
    "\n",
    "#references : https://towardsdatascience.com/data-cleaning-with-python-and-pandas-detecting-missing-values-3e9c6ebcf78b"
   ]
  },
  {
   "cell_type": "code",
   "execution_count": 11,
   "id": "00cf54e6",
   "metadata": {},
   "outputs": [],
   "source": [
    "#For the rest of the numerical features, we will replace the null value by the mean of the feature\n",
    "train_numerical_features=df_train.select_dtypes(include=[np.number])\n",
    "test_numerical_features=df_test.select_dtypes(include=[np.number])\n",
    "\n",
    "for col in train_numerical_features:\n",
    "    df_train[col].fillna(int(df_train[col].mean()), inplace=True)\n",
    "\n",
    "for col in test_numerical_features:\n",
    "    df_test[col].fillna(int(df_test[col].mean()), inplace=True)"
   ]
  },
  {
   "cell_type": "code",
   "execution_count": 12,
   "id": "a340296a",
   "metadata": {},
   "outputs": [
    {
     "name": "stdout",
     "output_type": "stream",
     "text": [
      "Test shape : (460, 74)\n",
      "Train shape : (1000, 75)\n"
     ]
    }
   ],
   "source": [
    "#We now have different shapes from before\n",
    "print(\"Test shape :\",df_test.shape)\n",
    "print(\"Train shape :\",df_train.shape)"
   ]
  },
  {
   "cell_type": "code",
   "execution_count": 13,
   "id": "eba38460",
   "metadata": {},
   "outputs": [
    {
     "data": {
      "text/plain": [
       "['Street',\n",
       " 'Utilities',\n",
       " 'LandSlope',\n",
       " 'Condition2',\n",
       " 'RoofMatl',\n",
       " 'Heating',\n",
       " 'CentralAir',\n",
       " 'Electrical',\n",
       " 'LowQualFinSF',\n",
       " 'BsmtHalfBath',\n",
       " 'KitchenAbvGr',\n",
       " 'Functional',\n",
       " 'GarageQual',\n",
       " 'GarageCond',\n",
       " 'PavedDrive',\n",
       " '3SsnPorch',\n",
       " 'ScreenPorch',\n",
       " 'PoolArea',\n",
       " 'MiscVal']"
      ]
     },
     "execution_count": 13,
     "metadata": {},
     "output_type": "execute_result"
    }
   ],
   "source": [
    "#Now let's check the feature with a high percentage of similar value / outliers in every rows \n",
    "#voir la Z score approachg ici cest peut être mieux !------------------!!!---------------------!\n",
    "sameValueColumns = []\n",
    "number=0\n",
    "for features in df_train.columns:\n",
    "    value_counter = df_train[features].value_counts() #Display number of occurences for each value in each columns\n",
    "    similarities = (value_counter/len(df_train.index)).iloc[0] \n",
    "    \n",
    "    if similarities > 0.90:\n",
    "        sameValueColumns.append(features)\n",
    "sameValueColumns #List of features with more than 90% of similar values for string features and outlier for numerical features"
   ]
  },
  {
   "cell_type": "code",
   "execution_count": 14,
   "id": "5d7e0bc8",
   "metadata": {},
   "outputs": [],
   "source": [
    "#I consider that this set of columns is non relevant as it has too many similar values so I will drop it from the datasets\n",
    "df_test.drop(sameValueColumns,axis=1,inplace=True)\n",
    "df_train.drop(sameValueColumns,axis=1,inplace=True)"
   ]
  },
  {
   "cell_type": "code",
   "execution_count": 15,
   "id": "6b7feba3",
   "metadata": {},
   "outputs": [
    {
     "name": "stdout",
     "output_type": "stream",
     "text": [
      "Test number of columns : 55\n",
      "Train numbers of columns : 56\n"
     ]
    }
   ],
   "source": [
    "#The number of features has now dicreased again\n",
    "print(\"Test number of columns :\",df_test.shape[1])\n",
    "print(\"Train numbers of columns :\",df_train.shape[1])"
   ]
  },
  {
   "cell_type": "code",
   "execution_count": 16,
   "id": "53d2ea55",
   "metadata": {},
   "outputs": [
    {
     "name": "stderr",
     "output_type": "stream",
     "text": [
      "C:\\Users\\paul\\AppData\\Local\\Temp\\ipykernel_34568\\3430576361.py:3: FutureWarning: The default value of numeric_only in DataFrame.corr is deprecated. In a future version, it will default to False. Select only valid columns or specify the value of numeric_only to silence this warning.\n",
      "  correlation = df_train.corr()['SalePrice']\n"
     ]
    },
    {
     "data": {
      "text/plain": [
       "EnclosedPorch   -0.111712\n",
       "OverallCond     -0.095816\n",
       "MSSubClass      -0.081252\n",
       "YrSold          -0.030562\n",
       "BsmtFinSF2       0.000359\n",
       "MoSold           0.039314\n",
       "BedroomAbvGr     0.173287\n",
       "BsmtFullBath     0.216566\n",
       "BsmtUnfSF        0.221219\n",
       "LotArea          0.265493\n",
       "HalfBath         0.304008\n",
       "OpenPorchSF      0.319551\n",
       "WoodDeckSF       0.324953\n",
       "2ndFlrSF         0.325329\n",
       "LotFrontage      0.357521\n",
       "BsmtFinSF1       0.389868\n",
       "Fireplaces       0.473011\n",
       "GarageYrBlt      0.478479\n",
       "MasVnrArea       0.492796\n",
       "YearRemodAdd     0.526195\n",
       "YearBuilt        0.527193\n",
       "FullBath         0.559980\n",
       "TotRmsAbvGrd     0.570375\n",
       "1stFlrSF         0.627749\n",
       "TotalBsmtSF      0.642127\n",
       "GarageArea       0.647953\n",
       "GarageCars       0.658204\n",
       "GrLivArea        0.734997\n",
       "OverallQual      0.797666\n",
       "SalePrice        1.000000\n",
       "Name: SalePrice, dtype: float64"
      ]
     },
     "execution_count": 16,
     "metadata": {},
     "output_type": "execute_result"
    }
   ],
   "source": [
    "#Now let's check the correlation between features and the SalePrice feature in order to see what features has no impact on the SalePrice\n",
    "#corr() function only apply to features with numerical values\n",
    "correlation = df_train.corr()['SalePrice']\n",
    "correlation = correlation.sort_values()\n",
    "correlation\n",
    "\n",
    "#references :\n",
    "#https://www.journaldunet.fr/web-tech/developpement/1441113-comment-utiliser-corr-pour-obtenir-une-correlation-entre-deux-colonnes-avec-pandas/\n",
    "#https://www.youtube.com/watch?v=qWHBOOfku7k&ab_channel=ThePythonChannel"
   ]
  },
  {
   "cell_type": "code",
   "execution_count": 17,
   "id": "2ed1c490",
   "metadata": {},
   "outputs": [],
   "source": [
    "#create a dataframe of the correlations ot have a better visualization of the non needed features\n",
    "correlation=correlation.to_frame()\n",
    "correlation=correlation.reset_index()\n",
    "correlation= correlation.rename(columns={'index':'Features','SalePrice':'Correlation_Price'})\n"
   ]
  },
  {
   "cell_type": "code",
   "execution_count": 18,
   "id": "95116326",
   "metadata": {},
   "outputs": [
    {
     "data": {
      "text/html": [
       "<div>\n",
       "<style scoped>\n",
       "    .dataframe tbody tr th:only-of-type {\n",
       "        vertical-align: middle;\n",
       "    }\n",
       "\n",
       "    .dataframe tbody tr th {\n",
       "        vertical-align: top;\n",
       "    }\n",
       "\n",
       "    .dataframe thead th {\n",
       "        text-align: right;\n",
       "    }\n",
       "</style>\n",
       "<table border=\"1\" class=\"dataframe\">\n",
       "  <thead>\n",
       "    <tr style=\"text-align: right;\">\n",
       "      <th></th>\n",
       "      <th>Features</th>\n",
       "      <th>Correlation_Price</th>\n",
       "    </tr>\n",
       "  </thead>\n",
       "  <tbody>\n",
       "    <tr>\n",
       "      <th>0</th>\n",
       "      <td>EnclosedPorch</td>\n",
       "      <td>-0.111712</td>\n",
       "    </tr>\n",
       "    <tr>\n",
       "      <th>1</th>\n",
       "      <td>OverallCond</td>\n",
       "      <td>-0.095816</td>\n",
       "    </tr>\n",
       "    <tr>\n",
       "      <th>2</th>\n",
       "      <td>MSSubClass</td>\n",
       "      <td>-0.081252</td>\n",
       "    </tr>\n",
       "    <tr>\n",
       "      <th>3</th>\n",
       "      <td>YrSold</td>\n",
       "      <td>-0.030562</td>\n",
       "    </tr>\n",
       "    <tr>\n",
       "      <th>4</th>\n",
       "      <td>BsmtFinSF2</td>\n",
       "      <td>0.000359</td>\n",
       "    </tr>\n",
       "  </tbody>\n",
       "</table>\n",
       "</div>"
      ],
      "text/plain": [
       "        Features  Correlation_Price\n",
       "0  EnclosedPorch          -0.111712\n",
       "1    OverallCond          -0.095816\n",
       "2     MSSubClass          -0.081252\n",
       "3         YrSold          -0.030562\n",
       "4     BsmtFinSF2           0.000359"
      ]
     },
     "execution_count": 18,
     "metadata": {},
     "output_type": "execute_result"
    }
   ],
   "source": [
    "correlation.head(5)"
   ]
  },
  {
   "cell_type": "code",
   "execution_count": 19,
   "id": "752a5342",
   "metadata": {},
   "outputs": [
    {
     "data": {
      "text/plain": [
       "['EnclosedPorch',\n",
       " 'OverallCond',\n",
       " 'MSSubClass',\n",
       " 'YrSold',\n",
       " 'BsmtFinSF2',\n",
       " 'MoSold',\n",
       " 'BedroomAbvGr']"
      ]
     },
     "execution_count": 19,
     "metadata": {},
     "output_type": "execute_result"
    }
   ],
   "source": [
    "#We can see that we have some value around 0, it means that these features has litle correlation with the change of SalePrice\n",
    "#I will get rid of features having between -0,2 and +0,2 correlations with SalePrice\n",
    "#correlation['index'][-0.2<correlation['SalePrice']<0.2]\n",
    "\n",
    "badCorrelation=(correlation['Features'][(correlation['Correlation_Price'] > -0.2) & (correlation['Correlation_Price'] < 0.2)]).tolist()\n",
    "badCorrelation"
   ]
  },
  {
   "cell_type": "code",
   "execution_count": 20,
   "id": "f3780027",
   "metadata": {},
   "outputs": [],
   "source": [
    "#Droping the badCorrelation list of features\n",
    "df_test.drop(badCorrelation,axis=1,inplace=True)\n",
    "df_train.drop(badCorrelation,axis=1,inplace=True)"
   ]
  },
  {
   "cell_type": "code",
   "execution_count": 21,
   "id": "7a5ccce3",
   "metadata": {},
   "outputs": [
    {
     "name": "stdout",
     "output_type": "stream",
     "text": [
      "Test number of columns : 48\n",
      "Train numbers of columns : 49\n"
     ]
    }
   ],
   "source": [
    "#The number of feature has now dicreased again\n",
    "print(\"Test number of columns :\",df_test.shape[1])\n",
    "print(\"Train numbers of columns :\",df_train.shape[1])"
   ]
  },
  {
   "cell_type": "code",
   "execution_count": 22,
   "id": "cab1d80b",
   "metadata": {},
   "outputs": [
    {
     "name": "stdout",
     "output_type": "stream",
     "text": [
      "['Neighborhood', 'Condition1', 'RoofStyle', 'Exterior1st', 'Exterior2nd', 'ExterCond', 'HeatingQC', 'SaleType', 'SaleCondition']\n",
      "['MasVnrType', 'BsmtQual', 'BsmtCond', 'BsmtExposure', 'BsmtFinType1', 'BsmtFinType2', 'GarageType', 'GarageFinish']\n"
     ]
    }
   ],
   "source": [
    "#Now let's check that the unique value of non-numerical features are the same in the Train and Test datasets\n",
    "a=0\n",
    "nonSameUnique=[] #Will be the features with some different values in Test and train set\n",
    "problemOfNullValue=[] #Features we will have to deal with because of null value\n",
    "for features in (df_test.select_dtypes(exclude = [np.number])).columns:\n",
    "    try:\n",
    "        if(sorted(df_test[features].unique())!=sorted(df_train[features].unique())):\n",
    "            nonSameUnique.append(features)\n",
    "    except:\n",
    "        problemOfNullValue.append(features)\n",
    "        \n",
    "print(nonSameUnique)\n",
    "print(problemOfNullValue)"
   ]
  },
  {
   "cell_type": "code",
   "execution_count": 23,
   "id": "777627fd",
   "metadata": {},
   "outputs": [
    {
     "name": "stdout",
     "output_type": "stream",
     "text": [
      "[['Neighborhood', 'Blueste'], ['Condition1', 'RRNe'], ['Exterior2nd', 'Other'], ['ExterCond', 'Po'], ['HeatingQC', 'Po'], ['SaleType', 'ConLI', 'Con'], ['SaleCondition', 'AdjLand']]\n",
      "7\n"
     ]
    }
   ],
   "source": [
    "excess_value=[]#list of excess value that are in the training set and not in the testing set\n",
    "\n",
    "for uniques in nonSameUnique:\n",
    "    current_feature=[] #Sub list of the current feature\n",
    "    current_feature.append(uniques)\n",
    "    for i in range(len(df_train[uniques].unique())):\n",
    "        if ((df_train[uniques].unique())[i] not in df_test[uniques].unique()): #Looking for feature that are in train and not in test\n",
    "            current_feature.append(df_train[uniques].unique()[i])\n",
    "    if len(current_feature)>1: #To avoid features that are in test but not in train, we dont have to eliminate these\n",
    "        excess_value.append(current_feature) #Append [Feature,1st_missingValue,...,N_missingValue]\n",
    "    \n",
    "print(excess_value)\n",
    "    #print(sorted(df_test[i].unique()))\n",
    "    #print(sorted(df_train[i].unique()))\n",
    "print(len(excess_value))"
   ]
  },
  {
   "cell_type": "code",
   "execution_count": 24,
   "id": "64cd9650",
   "metadata": {},
   "outputs": [],
   "source": [
    "#We will now replace these all of the occurence of these excess unique value by the value the most represented in this feature.\n",
    "for feature in range(len(excess_value)):\n",
    "    for i in range(0,len(excess_value[feature])-1):\n",
    "        df_train[excess_value[feature][0]]=df_train[excess_value[feature][0]].replace([excess_value[feature][i+1]],df_train[excess_value[feature][0]].mode())\n",
    "\n",
    "\n",
    "#ressources = https://www.youtube.com/watch?v=QA_XVkjIaiw&ab_channel=cbsecsip"
   ]
  },
  {
   "cell_type": "code",
   "execution_count": null,
   "id": "80259cfd",
   "metadata": {},
   "outputs": [],
   "source": []
  },
  {
   "cell_type": "code",
   "execution_count": 25,
   "id": "03a888a8",
   "metadata": {},
   "outputs": [
    {
     "data": {
      "text/html": [
       "<div>\n",
       "<style scoped>\n",
       "    .dataframe tbody tr th:only-of-type {\n",
       "        vertical-align: middle;\n",
       "    }\n",
       "\n",
       "    .dataframe tbody tr th {\n",
       "        vertical-align: top;\n",
       "    }\n",
       "\n",
       "    .dataframe thead th {\n",
       "        text-align: right;\n",
       "    }\n",
       "</style>\n",
       "<table border=\"1\" class=\"dataframe\">\n",
       "  <thead>\n",
       "    <tr style=\"text-align: right;\">\n",
       "      <th></th>\n",
       "      <th>LotFrontage</th>\n",
       "      <th>LotArea</th>\n",
       "      <th>OverallQual</th>\n",
       "      <th>YearBuilt</th>\n",
       "      <th>YearRemodAdd</th>\n",
       "      <th>MasVnrArea</th>\n",
       "      <th>BsmtFinSF1</th>\n",
       "      <th>BsmtUnfSF</th>\n",
       "      <th>TotalBsmtSF</th>\n",
       "      <th>1stFlrSF</th>\n",
       "      <th>...</th>\n",
       "      <th>FullBath</th>\n",
       "      <th>HalfBath</th>\n",
       "      <th>TotRmsAbvGrd</th>\n",
       "      <th>Fireplaces</th>\n",
       "      <th>GarageYrBlt</th>\n",
       "      <th>GarageCars</th>\n",
       "      <th>GarageArea</th>\n",
       "      <th>WoodDeckSF</th>\n",
       "      <th>OpenPorchSF</th>\n",
       "      <th>SalePrice</th>\n",
       "    </tr>\n",
       "  </thead>\n",
       "  <tbody>\n",
       "    <tr>\n",
       "      <th>0</th>\n",
       "      <td>65.0</td>\n",
       "      <td>8450</td>\n",
       "      <td>7</td>\n",
       "      <td>2003</td>\n",
       "      <td>2003</td>\n",
       "      <td>196.0</td>\n",
       "      <td>706</td>\n",
       "      <td>150</td>\n",
       "      <td>856</td>\n",
       "      <td>856</td>\n",
       "      <td>...</td>\n",
       "      <td>2</td>\n",
       "      <td>1</td>\n",
       "      <td>8</td>\n",
       "      <td>0</td>\n",
       "      <td>2003.0</td>\n",
       "      <td>2</td>\n",
       "      <td>548</td>\n",
       "      <td>0</td>\n",
       "      <td>61</td>\n",
       "      <td>208500</td>\n",
       "    </tr>\n",
       "    <tr>\n",
       "      <th>1</th>\n",
       "      <td>80.0</td>\n",
       "      <td>9600</td>\n",
       "      <td>6</td>\n",
       "      <td>1976</td>\n",
       "      <td>1976</td>\n",
       "      <td>0.0</td>\n",
       "      <td>978</td>\n",
       "      <td>284</td>\n",
       "      <td>1262</td>\n",
       "      <td>1262</td>\n",
       "      <td>...</td>\n",
       "      <td>2</td>\n",
       "      <td>0</td>\n",
       "      <td>6</td>\n",
       "      <td>1</td>\n",
       "      <td>1976.0</td>\n",
       "      <td>2</td>\n",
       "      <td>460</td>\n",
       "      <td>298</td>\n",
       "      <td>0</td>\n",
       "      <td>181500</td>\n",
       "    </tr>\n",
       "  </tbody>\n",
       "</table>\n",
       "<p>2 rows × 23 columns</p>\n",
       "</div>"
      ],
      "text/plain": [
       "   LotFrontage  LotArea  OverallQual  YearBuilt  YearRemodAdd  MasVnrArea  \\\n",
       "0         65.0     8450            7       2003          2003       196.0   \n",
       "1         80.0     9600            6       1976          1976         0.0   \n",
       "\n",
       "   BsmtFinSF1  BsmtUnfSF  TotalBsmtSF  1stFlrSF  ...  FullBath  HalfBath  \\\n",
       "0         706        150          856       856  ...         2         1   \n",
       "1         978        284         1262      1262  ...         2         0   \n",
       "\n",
       "   TotRmsAbvGrd  Fireplaces  GarageYrBlt  GarageCars  GarageArea  WoodDeckSF  \\\n",
       "0             8           0       2003.0           2         548           0   \n",
       "1             6           1       1976.0           2         460         298   \n",
       "\n",
       "   OpenPorchSF  SalePrice  \n",
       "0           61     208500  \n",
       "1            0     181500  \n",
       "\n",
       "[2 rows x 23 columns]"
      ]
     },
     "execution_count": 25,
     "metadata": {},
     "output_type": "execute_result"
    }
   ],
   "source": [
    "#Exctracting numerical features in order to put it in a log scale\n",
    "train_numerical_feature=df_train.select_dtypes(include=[np.number])\n",
    "test_numerical_feature=df_test.select_dtypes(include=[np.number])\n",
    "\n",
    "train_numerical_feature.head(2)"
   ]
  },
  {
   "cell_type": "code",
   "execution_count": 26,
   "id": "a33bf6ca",
   "metadata": {},
   "outputs": [
    {
     "data": {
      "text/html": [
       "<div>\n",
       "<style scoped>\n",
       "    .dataframe tbody tr th:only-of-type {\n",
       "        vertical-align: middle;\n",
       "    }\n",
       "\n",
       "    .dataframe tbody tr th {\n",
       "        vertical-align: top;\n",
       "    }\n",
       "\n",
       "    .dataframe thead th {\n",
       "        text-align: right;\n",
       "    }\n",
       "</style>\n",
       "<table border=\"1\" class=\"dataframe\">\n",
       "  <thead>\n",
       "    <tr style=\"text-align: right;\">\n",
       "      <th></th>\n",
       "      <th>LotFrontage</th>\n",
       "      <th>LotArea</th>\n",
       "      <th>OverallQual</th>\n",
       "      <th>YearBuilt</th>\n",
       "      <th>YearRemodAdd</th>\n",
       "      <th>MasVnrArea</th>\n",
       "      <th>BsmtFinSF1</th>\n",
       "      <th>BsmtUnfSF</th>\n",
       "      <th>TotalBsmtSF</th>\n",
       "      <th>1stFlrSF</th>\n",
       "      <th>...</th>\n",
       "      <th>FullBath</th>\n",
       "      <th>HalfBath</th>\n",
       "      <th>TotRmsAbvGrd</th>\n",
       "      <th>Fireplaces</th>\n",
       "      <th>GarageYrBlt</th>\n",
       "      <th>GarageCars</th>\n",
       "      <th>GarageArea</th>\n",
       "      <th>WoodDeckSF</th>\n",
       "      <th>OpenPorchSF</th>\n",
       "      <th>SalePrice</th>\n",
       "    </tr>\n",
       "  </thead>\n",
       "  <tbody>\n",
       "    <tr>\n",
       "      <th>0</th>\n",
       "      <td>4.174387</td>\n",
       "      <td>9.041922</td>\n",
       "      <td>1.945910</td>\n",
       "      <td>7.602401</td>\n",
       "      <td>7.602401</td>\n",
       "      <td>5.278115</td>\n",
       "      <td>6.559615</td>\n",
       "      <td>5.010635</td>\n",
       "      <td>6.752270</td>\n",
       "      <td>6.752270</td>\n",
       "      <td>...</td>\n",
       "      <td>0.693147</td>\n",
       "      <td>0.0</td>\n",
       "      <td>2.079442</td>\n",
       "      <td>-inf</td>\n",
       "      <td>7.602401</td>\n",
       "      <td>0.693147</td>\n",
       "      <td>6.306275</td>\n",
       "      <td>-inf</td>\n",
       "      <td>4.110874</td>\n",
       "      <td>12.247694</td>\n",
       "    </tr>\n",
       "    <tr>\n",
       "      <th>1</th>\n",
       "      <td>4.382027</td>\n",
       "      <td>9.169518</td>\n",
       "      <td>1.791759</td>\n",
       "      <td>7.588830</td>\n",
       "      <td>7.588830</td>\n",
       "      <td>-inf</td>\n",
       "      <td>6.885510</td>\n",
       "      <td>5.648974</td>\n",
       "      <td>7.140453</td>\n",
       "      <td>7.140453</td>\n",
       "      <td>...</td>\n",
       "      <td>0.693147</td>\n",
       "      <td>-inf</td>\n",
       "      <td>1.791759</td>\n",
       "      <td>0.0</td>\n",
       "      <td>7.588830</td>\n",
       "      <td>0.693147</td>\n",
       "      <td>6.131226</td>\n",
       "      <td>5.697093</td>\n",
       "      <td>-inf</td>\n",
       "      <td>12.109011</td>\n",
       "    </tr>\n",
       "  </tbody>\n",
       "</table>\n",
       "<p>2 rows × 23 columns</p>\n",
       "</div>"
      ],
      "text/plain": [
       "   LotFrontage   LotArea  OverallQual  YearBuilt  YearRemodAdd  MasVnrArea  \\\n",
       "0     4.174387  9.041922     1.945910   7.602401      7.602401    5.278115   \n",
       "1     4.382027  9.169518     1.791759   7.588830      7.588830        -inf   \n",
       "\n",
       "   BsmtFinSF1  BsmtUnfSF  TotalBsmtSF  1stFlrSF  ...  FullBath  HalfBath  \\\n",
       "0    6.559615   5.010635     6.752270  6.752270  ...  0.693147       0.0   \n",
       "1    6.885510   5.648974     7.140453  7.140453  ...  0.693147      -inf   \n",
       "\n",
       "   TotRmsAbvGrd  Fireplaces  GarageYrBlt  GarageCars  GarageArea  WoodDeckSF  \\\n",
       "0      2.079442        -inf     7.602401    0.693147    6.306275        -inf   \n",
       "1      1.791759         0.0     7.588830    0.693147    6.131226    5.697093   \n",
       "\n",
       "   OpenPorchSF  SalePrice  \n",
       "0     4.110874  12.247694  \n",
       "1         -inf  12.109011  \n",
       "\n",
       "[2 rows x 23 columns]"
      ]
     },
     "execution_count": 26,
     "metadata": {},
     "output_type": "execute_result"
    }
   ],
   "source": [
    "train_numerical_feature=np.log(train_numerical_feature)\n",
    "test_numerical_feature=np.log(test_numerical_feature)\n",
    "train_numerical_feature.head(2)"
   ]
  },
  {
   "cell_type": "code",
   "execution_count": 27,
   "id": "0b2ed321",
   "metadata": {},
   "outputs": [
    {
     "data": {
      "text/html": [
       "<div>\n",
       "<style scoped>\n",
       "    .dataframe tbody tr th:only-of-type {\n",
       "        vertical-align: middle;\n",
       "    }\n",
       "\n",
       "    .dataframe tbody tr th {\n",
       "        vertical-align: top;\n",
       "    }\n",
       "\n",
       "    .dataframe thead th {\n",
       "        text-align: right;\n",
       "    }\n",
       "</style>\n",
       "<table border=\"1\" class=\"dataframe\">\n",
       "  <thead>\n",
       "    <tr style=\"text-align: right;\">\n",
       "      <th></th>\n",
       "      <th>LotFrontage</th>\n",
       "      <th>LotArea</th>\n",
       "      <th>OverallQual</th>\n",
       "      <th>YearBuilt</th>\n",
       "      <th>YearRemodAdd</th>\n",
       "      <th>MasVnrArea</th>\n",
       "      <th>BsmtFinSF1</th>\n",
       "      <th>BsmtUnfSF</th>\n",
       "      <th>TotalBsmtSF</th>\n",
       "      <th>1stFlrSF</th>\n",
       "      <th>...</th>\n",
       "      <th>FullBath</th>\n",
       "      <th>HalfBath</th>\n",
       "      <th>TotRmsAbvGrd</th>\n",
       "      <th>Fireplaces</th>\n",
       "      <th>GarageYrBlt</th>\n",
       "      <th>GarageCars</th>\n",
       "      <th>GarageArea</th>\n",
       "      <th>WoodDeckSF</th>\n",
       "      <th>OpenPorchSF</th>\n",
       "      <th>SalePrice</th>\n",
       "    </tr>\n",
       "  </thead>\n",
       "  <tbody>\n",
       "    <tr>\n",
       "      <th>0</th>\n",
       "      <td>4.174387</td>\n",
       "      <td>9.041922</td>\n",
       "      <td>1.945910</td>\n",
       "      <td>7.602401</td>\n",
       "      <td>7.602401</td>\n",
       "      <td>5.278115</td>\n",
       "      <td>6.559615</td>\n",
       "      <td>5.010635</td>\n",
       "      <td>6.752270</td>\n",
       "      <td>6.752270</td>\n",
       "      <td>...</td>\n",
       "      <td>0.693147</td>\n",
       "      <td>0.0</td>\n",
       "      <td>2.079442</td>\n",
       "      <td>0.0</td>\n",
       "      <td>7.602401</td>\n",
       "      <td>0.693147</td>\n",
       "      <td>6.306275</td>\n",
       "      <td>0.000000</td>\n",
       "      <td>4.110874</td>\n",
       "      <td>12.247694</td>\n",
       "    </tr>\n",
       "    <tr>\n",
       "      <th>1</th>\n",
       "      <td>4.382027</td>\n",
       "      <td>9.169518</td>\n",
       "      <td>1.791759</td>\n",
       "      <td>7.588830</td>\n",
       "      <td>7.588830</td>\n",
       "      <td>0.000000</td>\n",
       "      <td>6.885510</td>\n",
       "      <td>5.648974</td>\n",
       "      <td>7.140453</td>\n",
       "      <td>7.140453</td>\n",
       "      <td>...</td>\n",
       "      <td>0.693147</td>\n",
       "      <td>0.0</td>\n",
       "      <td>1.791759</td>\n",
       "      <td>0.0</td>\n",
       "      <td>7.588830</td>\n",
       "      <td>0.693147</td>\n",
       "      <td>6.131226</td>\n",
       "      <td>5.697093</td>\n",
       "      <td>0.000000</td>\n",
       "      <td>12.109011</td>\n",
       "    </tr>\n",
       "  </tbody>\n",
       "</table>\n",
       "<p>2 rows × 23 columns</p>\n",
       "</div>"
      ],
      "text/plain": [
       "   LotFrontage   LotArea  OverallQual  YearBuilt  YearRemodAdd  MasVnrArea  \\\n",
       "0     4.174387  9.041922     1.945910   7.602401      7.602401    5.278115   \n",
       "1     4.382027  9.169518     1.791759   7.588830      7.588830    0.000000   \n",
       "\n",
       "   BsmtFinSF1  BsmtUnfSF  TotalBsmtSF  1stFlrSF  ...  FullBath  HalfBath  \\\n",
       "0    6.559615   5.010635     6.752270  6.752270  ...  0.693147       0.0   \n",
       "1    6.885510   5.648974     7.140453  7.140453  ...  0.693147       0.0   \n",
       "\n",
       "   TotRmsAbvGrd  Fireplaces  GarageYrBlt  GarageCars  GarageArea  WoodDeckSF  \\\n",
       "0      2.079442         0.0     7.602401    0.693147    6.306275    0.000000   \n",
       "1      1.791759         0.0     7.588830    0.693147    6.131226    5.697093   \n",
       "\n",
       "   OpenPorchSF  SalePrice  \n",
       "0     4.110874  12.247694  \n",
       "1     0.000000  12.109011  \n",
       "\n",
       "[2 rows x 23 columns]"
      ]
     },
     "execution_count": 27,
     "metadata": {},
     "output_type": "execute_result"
    }
   ],
   "source": [
    "#Here, we can see that some value are -inf, we are going to replace it\n",
    "test_numerical_feature=test_numerical_feature.replace(float('-inf'),0)\n",
    "train_numerical_feature=train_numerical_feature.replace(float('-inf'),0)\n",
    "train_numerical_feature.head(2)"
   ]
  },
  {
   "cell_type": "code",
   "execution_count": 28,
   "id": "3471026c",
   "metadata": {},
   "outputs": [],
   "source": [
    "#Here is another version of normalization that I did in the begining before seeing that we had to put everything in a log scale"
   ]
  },
  {
   "cell_type": "code",
   "execution_count": 29,
   "id": "dca27628",
   "metadata": {},
   "outputs": [],
   "source": [
    "# # Scale train numerical data with MinMaxScaler()\n",
    "# #peut etre changer LOG ici car c'est la consigne\n",
    "# scalerTrain = MinMaxScaler()\n",
    "# trainScaled = DataFrame(scalerTrain.fit_transform(train_numerical_features),index=train_numerical_features.index, columns=train_numerical_features.columns)\n",
    "# trainScaled.head(2)"
   ]
  },
  {
   "cell_type": "code",
   "execution_count": 30,
   "id": "a8b32952",
   "metadata": {},
   "outputs": [],
   "source": [
    "# #Scale test numerical data with MinMaxScaler()\n",
    "# scalerTest = MinMaxScaler()\n",
    "# test_numerical_features=df_test.select_dtypes(include=[np.number])\n",
    "# testScaled = DataFrame(scalerTest.fit_transform(test_numerical_features),index=test_numerical_features.index, columns=test_numerical_features.columns)\n",
    "# testScaled.head(2)"
   ]
  },
  {
   "cell_type": "code",
   "execution_count": 31,
   "id": "f74f100b",
   "metadata": {},
   "outputs": [
    {
     "name": "stdout",
     "output_type": "stream",
     "text": [
      "Former shape : (1000, 49) new shape : (1000, 49)\n"
     ]
    }
   ],
   "source": [
    "#combine new scaled numerical data with others features in order to obtain the new scaled train dataset\n",
    "df_train_scaled=pd.concat([train_numerical_feature,df_train.select_dtypes(exclude=[np.number])],axis=1)\n",
    "print(\"Former shape :\",df_train.shape,\"new shape :\",df_train_scaled.shape) #verify that we still have the same shape in case we missed something"
   ]
  },
  {
   "cell_type": "code",
   "execution_count": 32,
   "id": "279ef328",
   "metadata": {},
   "outputs": [
    {
     "name": "stdout",
     "output_type": "stream",
     "text": [
      "Former shape : (460, 48) new shape : (460, 48)\n"
     ]
    }
   ],
   "source": [
    "#combien new scaled numerical data with others features in order to obtain the new scaled test dataset\n",
    "df_test_scaled=pd.concat([test_numerical_feature,df_test.select_dtypes(exclude=[np.number])],axis=1)\n",
    "print(\"Former shape :\",df_test.shape,\"new shape :\",df_test_scaled.shape) #verify that we still have the same shape in case we missed something"
   ]
  },
  {
   "cell_type": "code",
   "execution_count": 33,
   "id": "744d7362",
   "metadata": {},
   "outputs": [
    {
     "name": "stderr",
     "output_type": "stream",
     "text": [
      "C:\\Users\\paul\\AppData\\Local\\Temp\\ipykernel_34568\\1228436148.py:4: FutureWarning: The default value of numeric_only in DataFrame.corr is deprecated. In a future version, it will default to False. Select only valid columns or specify the value of numeric_only to silence this warning.\n",
      "  correlations=df_train_scaled.corr()\n"
     ]
    },
    {
     "data": {
      "text/html": [
       "<div>\n",
       "<style scoped>\n",
       "    .dataframe tbody tr th:only-of-type {\n",
       "        vertical-align: middle;\n",
       "    }\n",
       "\n",
       "    .dataframe tbody tr th {\n",
       "        vertical-align: top;\n",
       "    }\n",
       "\n",
       "    .dataframe thead th {\n",
       "        text-align: right;\n",
       "    }\n",
       "</style>\n",
       "<table border=\"1\" class=\"dataframe\">\n",
       "  <thead>\n",
       "    <tr style=\"text-align: right;\">\n",
       "      <th></th>\n",
       "      <th>index</th>\n",
       "      <th>variable</th>\n",
       "      <th>value</th>\n",
       "    </tr>\n",
       "  </thead>\n",
       "  <tbody>\n",
       "    <tr>\n",
       "      <th>68</th>\n",
       "      <td>SalePrice</td>\n",
       "      <td>OverallQual</td>\n",
       "      <td>0.794286</td>\n",
       "    </tr>\n",
       "    <tr>\n",
       "      <th>86</th>\n",
       "      <td>GarageYrBlt</td>\n",
       "      <td>YearBuilt</td>\n",
       "      <td>0.782934</td>\n",
       "    </tr>\n",
       "    <tr>\n",
       "      <th>268</th>\n",
       "      <td>TotRmsAbvGrd</td>\n",
       "      <td>GrLivArea</td>\n",
       "      <td>0.823998</td>\n",
       "    </tr>\n",
       "  </tbody>\n",
       "</table>\n",
       "</div>"
      ],
      "text/plain": [
       "            index     variable     value\n",
       "68      SalePrice  OverallQual  0.794286\n",
       "86    GarageYrBlt    YearBuilt  0.782934\n",
       "268  TotRmsAbvGrd    GrLivArea  0.823998"
      ]
     },
     "execution_count": 33,
     "metadata": {},
     "output_type": "execute_result"
    }
   ],
   "source": [
    "#We already checked the correlations between all the features and the SalePrice,\n",
    "#But we did not checked the correlations between each features yet\n",
    "#We will try to find the correlations with more than 80% and get rid of it\n",
    "correlations=df_train_scaled.corr()\n",
    "correlations=correlations.where(correlations.abs().gt(0.75)).reset_index().melt('index').dropna()\n",
    "correlations=correlations[correlations['index']!=correlations['variable']]\n",
    "correlations=correlations.drop_duplicates(subset=['value'])\n",
    "correlations"
   ]
  },
  {
   "cell_type": "code",
   "execution_count": 34,
   "id": "2a74def7",
   "metadata": {},
   "outputs": [
    {
     "name": "stdout",
     "output_type": "stream",
     "text": [
      "Features deleted : ['OverallQual', 'YearBuilt', 'GrLivArea']\n"
     ]
    }
   ],
   "source": [
    "#We are going to keep the first feature and get rid of the second one that has more than 80% correlations\n",
    "#create the list of features to delete \n",
    "tooMuchcorrelations=list(correlations['variable'])\n",
    "print(\"Features deleted :\",tooMuchcorrelations)\n",
    "#droping the list created\n",
    "df_train_scaled.drop(tooMuchcorrelations,axis=1,inplace=True)\n",
    "df_test_scaled.drop(tooMuchcorrelations,axis=1,inplace=True)\n"
   ]
  },
  {
   "cell_type": "code",
   "execution_count": 35,
   "id": "c121fe6b",
   "metadata": {},
   "outputs": [
    {
     "data": {
      "image/png": "[encoded data removed]",
      "text/plain": [
       "<Figure size 2500x3000 with 20 Axes>"
      ]
     },
     "metadata": {},
     "output_type": "display_data"
    }
   ],
   "source": [
    "#Now that everything looks clean, let's check with some visualizations that there is no problem\n",
    "(df_train_scaled.select_dtypes(include=[np.number])).hist(figsize = (25,30), grid = False, color ='Red')\n",
    "plt.show()"
   ]
  },
  {
   "cell_type": "code",
   "execution_count": 36,
   "id": "24463078",
   "metadata": {},
   "outputs": [
    {
     "name": "stdout",
     "output_type": "stream",
     "text": [
      "train types : [dtype('float64') dtype('O')]\n",
      "test types : [dtype('float64') dtype('O')]\n"
     ]
    }
   ],
   "source": [
    "print(\"train types :\",df_train_scaled.dtypes.unique())\n",
    "print(\"test types :\",df_test_scaled.dtypes.unique())"
   ]
  },
  {
   "cell_type": "code",
   "execution_count": 37,
   "id": "aa439909",
   "metadata": {},
   "outputs": [],
   "source": [
    "#Resetting the index so ID become a column\n",
    "df_test_scaled=df_test_scaled.reset_index(level=None, drop=False, inplace=False, col_level=0, col_fill='')\n",
    "#saving ID as in another dataframe so we can use it later\n",
    "id_save=df_test_scaled['id']"
   ]
  },
  {
   "cell_type": "code",
   "execution_count": 38,
   "id": "cad176db",
   "metadata": {},
   "outputs": [],
   "source": [
    "#creating the X and Y train\n",
    "X_train = df_train_scaled.drop(['SalePrice'], axis = 1)\n",
    "Y_train = np.array(df_train_scaled['SalePrice']).reshape((-1,1))"
   ]
  },
  {
   "cell_type": "code",
   "execution_count": 39,
   "id": "8fda7dc2",
   "metadata": {},
   "outputs": [],
   "source": [
    "#creating X_test by deleting ID feature so it has the same number of features as X_train\n",
    "X_test = df_test_scaled.drop(['id'], axis = 1)"
   ]
  },
  {
   "cell_type": "code",
   "execution_count": 40,
   "id": "09f168df",
   "metadata": {},
   "outputs": [
    {
     "name": "stdout",
     "output_type": "stream",
     "text": [
      "X train shape : (1000, 45)\n",
      "Y test shape : (1000, 1)\n",
      "X test shape : (460, 45)\n"
     ]
    }
   ],
   "source": [
    "print(\"X train shape :\",X_train.shape)\n",
    "print(\"Y test shape :\",Y_train.shape)\n",
    "print(\"X test shape :\",X_test.shape)\n"
   ]
  },
  {
   "cell_type": "code",
   "execution_count": 41,
   "id": "2b169f1e",
   "metadata": {},
   "outputs": [],
   "source": [
    "#to look at next time :\n",
    "#https://pandas.pydata.org/pandas-docs/stable/reference/api/pandas.get_dummies.html"
   ]
  },
  {
   "cell_type": "code",
   "execution_count": 42,
   "id": "c177497a",
   "metadata": {
    "scrolled": true
   },
   "outputs": [],
   "source": [
    "#In order to train the data, we need to solve the problem of having text and numerical values\n",
    "#reference 1 : https://towardsdatascience.com/how-to-combine-textual-and-numerical-features-for-machine-learning-in-python-dc1526ca94d9\n",
    "#reference 2 : https://towardsdatascience.com/combining-numerical-and-text-features-in-deep-neural-networks-e91f0237eea4\n",
    "#reference 3 : https://lms.univ-cotedazur.fr/2022/pluginfile.php/417882/mod_resource/content/2/09-ML%20pipeline.pdf\n",
    "\n"
   ]
  },
  {
   "cell_type": "code",
   "execution_count": 43,
   "id": "1c6df4ad",
   "metadata": {},
   "outputs": [],
   "source": [
    "#The best solution I found in order to replace the text features is the pandas function get_dummies : https://pandas.pydata.org/pandas-docs/stable/reference/api/pandas.get_dummies.html\n",
    "\n",
    "X_train=pd.get_dummies(X_train)\n",
    "X_test=pd.get_dummies(X_test)"
   ]
  },
  {
   "cell_type": "code",
   "execution_count": 44,
   "id": "f52876fa",
   "metadata": {},
   "outputs": [
    {
     "name": "stdout",
     "output_type": "stream",
     "text": [
      "X train shape : (1000, 183)\n",
      "Y test shape : (1000, 1)\n",
      "X test shape : (460, 188)\n"
     ]
    }
   ],
   "source": [
    "print(\"X train shape :\",X_train.shape)\n",
    "print(\"Y test shape :\",Y_train.shape)\n",
    "print(\"X test shape :\",X_test.shape)"
   ]
  },
  {
   "cell_type": "code",
   "execution_count": 45,
   "id": "cde30dc9",
   "metadata": {},
   "outputs": [
    {
     "name": "stdout",
     "output_type": "stream",
     "text": [
      "Features deleted : ['RoofStyle_Shed', 'Exterior1st_AsphShn', 'Exterior1st_CBlock', 'Exterior1st_ImStucc', 'Exterior1st_Stone', 'Exterior2nd_CBlock'] ['BsmtCond_Po']\n"
     ]
    }
   ],
   "source": [
    "#Here we can see that I have some features in test that I dont have in train, i will now eliminate them :\n",
    "#(it must be because in the test dataset, there were some value that were not in the train one)\n",
    "test_to_eliminate=[]\n",
    "train_to_eliminate=[]\n",
    "for featureTest in X_test.columns:\n",
    "    if featureTest not in X_train.columns:\n",
    "        test_to_eliminate.append(featureTest)\n",
    "        \n",
    "for featureTrain in X_train.columns:\n",
    "    if featureTrain not in X_test.columns:\n",
    "        train_to_eliminate.append(featureTrain)\n",
    "        \n",
    "print(\"Features deleted :\",test_to_eliminate,train_to_eliminate)\n",
    "\n",
    "X_test.drop(test_to_eliminate,axis=1,inplace=True)\n",
    "X_train.drop(train_to_eliminate,axis=1,inplace=True)\n"
   ]
  },
  {
   "cell_type": "code",
   "execution_count": 46,
   "id": "3e2d3c93",
   "metadata": {},
   "outputs": [
    {
     "name": "stdout",
     "output_type": "stream",
     "text": [
      "X train shape : (1000, 182)\n",
      "Y train shape : (1000, 1)\n",
      "X test shape : (460, 182)\n"
     ]
    }
   ],
   "source": [
    "print(\"X train shape :\",X_train.shape)\n",
    "print(\"Y train shape :\",Y_train.shape)\n",
    "print(\"X test shape :\",X_test.shape)"
   ]
  },
  {
   "cell_type": "code",
   "execution_count": null,
   "id": "073a45c8",
   "metadata": {},
   "outputs": [],
   "source": []
  },
  {
   "cell_type": "code",
   "execution_count": 47,
   "id": "8d461adc",
   "metadata": {},
   "outputs": [],
   "source": [
    "# from numpy import nan, log, isnan\n",
    "\n",
    "# imputer = SimpleImputer(missing_values=nan, strategy='median')\n",
    "# X_train = imputer.fit_transform(X_train)\n",
    "# print('Missing: %d' % isnan(X_train).sum())\n",
    "# Y_train = imputer.fit_transform(Y_train)\n",
    "# print('Missing: %d' % isnan(Y_train).sum())\n",
    "# X_test = imputer.fit_transform(X_test)\n",
    "# print('Missing: %d' % isnan(X_test).sum())"
   ]
  },
  {
   "cell_type": "code",
   "execution_count": 104,
   "id": "19b503fe",
   "metadata": {},
   "outputs": [
    {
     "name": "stdout",
     "output_type": "stream",
     "text": [
      "Former shape : (460, 182)\n",
      "New shape : (1000, 182)\n"
     ]
    }
   ],
   "source": [
    "#Just a try to change the number of rows of X_train in order to test some functions because I had a problem if X_train and X_test did not have the same number of rows\n",
    "originalLen=X_test.shape[0]\n",
    "print(\"Former shape :\",X_test.shape)\n",
    "#print(X_test)\n",
    "X_test_V2=pd.concat([X_test,X_test],axis=0)\n",
    "X_test_V2=pd.concat([X_test_V2,X_test[0:(X_train.shape[0]-X_test_V2.shape[0])]],axis=0)\n",
    "\n",
    "print(\"New shape :\",X_test_V2.shape)"
   ]
  },
  {
   "cell_type": "code",
   "execution_count": 49,
   "id": "7138d12f",
   "metadata": {},
   "outputs": [],
   "source": [
    "#I will now compare some models seen in Class according to the metrics RMSE as asked."
   ]
  },
  {
   "cell_type": "code",
   "execution_count": 100,
   "id": "099bbc89",
   "metadata": {},
   "outputs": [
    {
     "data": {
      "text/plain": [
       "0.4053094942312331"
      ]
     },
     "execution_count": 100,
     "metadata": {},
     "output_type": "execute_result"
    }
   ],
   "source": [
    "#Support vector machine (regressor) RMSE\n",
    "svr = SVR(C=1000, gamma = 10)\n",
    "svr.fit(X_train, Y_train.ravel())\n",
    "y_pred = svr.predict(X_test_V2)\n",
    "svr_RMSE = mean_squared_error(Y_train, y_pred,squared = False)\n",
    "svr_RMSE"
   ]
  },
  {
   "cell_type": "code",
   "execution_count": 73,
   "id": "855f9124",
   "metadata": {},
   "outputs": [
    {
     "ename": "ValueError",
     "evalue": "Unknown label type: 'continuous'",
     "output_type": "error",
     "traceback": [
      "\u001b[1;31m---------------------------------------------------------------------------\u001b[0m",
      "\u001b[1;31mValueError\u001b[0m                                Traceback (most recent call last)",
      "Cell \u001b[1;32mIn[73], line 4\u001b[0m\n\u001b[0;32m      1\u001b[0m \u001b[38;5;66;03m#Decision trees RMSE \u001b[39;00m\n\u001b[0;32m      3\u001b[0m DecTree \u001b[38;5;241m=\u001b[39m DecisionTreeClassifier()\n\u001b[1;32m----> 4\u001b[0m \u001b[43mDecTree\u001b[49m\u001b[38;5;241;43m.\u001b[39;49m\u001b[43mfit\u001b[49m\u001b[43m(\u001b[49m\u001b[43mX_train\u001b[49m\u001b[43m,\u001b[49m\u001b[43m \u001b[49m\u001b[43mY_train\u001b[49m\u001b[38;5;241;43m.\u001b[39;49m\u001b[43mravel\u001b[49m\u001b[43m(\u001b[49m\u001b[43m)\u001b[49m\u001b[43m)\u001b[49m\n\u001b[0;32m      5\u001b[0m y_pred \u001b[38;5;241m=\u001b[39m DecTree\u001b[38;5;241m.\u001b[39mpredict(X_test_V2)\n\u001b[0;32m      6\u001b[0m DecTree_RMSE \u001b[38;5;241m=\u001b[39m mean_squared_error(Y_train, y_pred,squared \u001b[38;5;241m=\u001b[39m \u001b[38;5;28;01mFalse\u001b[39;00m)\n",
      "File \u001b[1;32m~\\AppData\\Local\\Packages\\PythonSoftwareFoundation.Python.3.10_qbz5n2kfra8p0\\LocalCache\\local-packages\\Python310\\site-packages\\sklearn\\tree\\_classes.py:889\u001b[0m, in \u001b[0;36mDecisionTreeClassifier.fit\u001b[1;34m(self, X, y, sample_weight, check_input)\u001b[0m\n\u001b[0;32m    859\u001b[0m \u001b[38;5;28;01mdef\u001b[39;00m \u001b[38;5;21mfit\u001b[39m(\u001b[38;5;28mself\u001b[39m, X, y, sample_weight\u001b[38;5;241m=\u001b[39m\u001b[38;5;28;01mNone\u001b[39;00m, check_input\u001b[38;5;241m=\u001b[39m\u001b[38;5;28;01mTrue\u001b[39;00m):\n\u001b[0;32m    860\u001b[0m     \u001b[38;5;124;03m\"\"\"Build a decision tree classifier from the training set (X, y).\u001b[39;00m\n\u001b[0;32m    861\u001b[0m \n\u001b[0;32m    862\u001b[0m \u001b[38;5;124;03m    Parameters\u001b[39;00m\n\u001b[1;32m   (...)\u001b[0m\n\u001b[0;32m    886\u001b[0m \u001b[38;5;124;03m        Fitted estimator.\u001b[39;00m\n\u001b[0;32m    887\u001b[0m \u001b[38;5;124;03m    \"\"\"\u001b[39;00m\n\u001b[1;32m--> 889\u001b[0m     \u001b[38;5;28;43msuper\u001b[39;49m\u001b[43m(\u001b[49m\u001b[43m)\u001b[49m\u001b[38;5;241;43m.\u001b[39;49m\u001b[43mfit\u001b[49m\u001b[43m(\u001b[49m\n\u001b[0;32m    890\u001b[0m \u001b[43m        \u001b[49m\u001b[43mX\u001b[49m\u001b[43m,\u001b[49m\n\u001b[0;32m    891\u001b[0m \u001b[43m        \u001b[49m\u001b[43my\u001b[49m\u001b[43m,\u001b[49m\n\u001b[0;32m    892\u001b[0m \u001b[43m        \u001b[49m\u001b[43msample_weight\u001b[49m\u001b[38;5;241;43m=\u001b[39;49m\u001b[43msample_weight\u001b[49m\u001b[43m,\u001b[49m\n\u001b[0;32m    893\u001b[0m \u001b[43m        \u001b[49m\u001b[43mcheck_input\u001b[49m\u001b[38;5;241;43m=\u001b[39;49m\u001b[43mcheck_input\u001b[49m\u001b[43m,\u001b[49m\n\u001b[0;32m    894\u001b[0m \u001b[43m    \u001b[49m\u001b[43m)\u001b[49m\n\u001b[0;32m    895\u001b[0m     \u001b[38;5;28;01mreturn\u001b[39;00m \u001b[38;5;28mself\u001b[39m\n",
      "File \u001b[1;32m~\\AppData\\Local\\Packages\\PythonSoftwareFoundation.Python.3.10_qbz5n2kfra8p0\\LocalCache\\local-packages\\Python310\\site-packages\\sklearn\\tree\\_classes.py:224\u001b[0m, in \u001b[0;36mBaseDecisionTree.fit\u001b[1;34m(self, X, y, sample_weight, check_input)\u001b[0m\n\u001b[0;32m    221\u001b[0m \u001b[38;5;28mself\u001b[39m\u001b[38;5;241m.\u001b[39mn_outputs_ \u001b[38;5;241m=\u001b[39m y\u001b[38;5;241m.\u001b[39mshape[\u001b[38;5;241m1\u001b[39m]\n\u001b[0;32m    223\u001b[0m \u001b[38;5;28;01mif\u001b[39;00m is_classification:\n\u001b[1;32m--> 224\u001b[0m     \u001b[43mcheck_classification_targets\u001b[49m\u001b[43m(\u001b[49m\u001b[43my\u001b[49m\u001b[43m)\u001b[49m\n\u001b[0;32m    225\u001b[0m     y \u001b[38;5;241m=\u001b[39m np\u001b[38;5;241m.\u001b[39mcopy(y)\n\u001b[0;32m    227\u001b[0m     \u001b[38;5;28mself\u001b[39m\u001b[38;5;241m.\u001b[39mclasses_ \u001b[38;5;241m=\u001b[39m []\n",
      "File \u001b[1;32m~\\AppData\\Local\\Packages\\PythonSoftwareFoundation.Python.3.10_qbz5n2kfra8p0\\LocalCache\\local-packages\\Python310\\site-packages\\sklearn\\utils\\multiclass.py:207\u001b[0m, in \u001b[0;36mcheck_classification_targets\u001b[1;34m(y)\u001b[0m\n\u001b[0;32m    199\u001b[0m y_type \u001b[38;5;241m=\u001b[39m type_of_target(y, input_name\u001b[38;5;241m=\u001b[39m\u001b[38;5;124m\"\u001b[39m\u001b[38;5;124my\u001b[39m\u001b[38;5;124m\"\u001b[39m)\n\u001b[0;32m    200\u001b[0m \u001b[38;5;28;01mif\u001b[39;00m y_type \u001b[38;5;129;01mnot\u001b[39;00m \u001b[38;5;129;01min\u001b[39;00m [\n\u001b[0;32m    201\u001b[0m     \u001b[38;5;124m\"\u001b[39m\u001b[38;5;124mbinary\u001b[39m\u001b[38;5;124m\"\u001b[39m,\n\u001b[0;32m    202\u001b[0m     \u001b[38;5;124m\"\u001b[39m\u001b[38;5;124mmulticlass\u001b[39m\u001b[38;5;124m\"\u001b[39m,\n\u001b[1;32m   (...)\u001b[0m\n\u001b[0;32m    205\u001b[0m     \u001b[38;5;124m\"\u001b[39m\u001b[38;5;124mmultilabel-sequences\u001b[39m\u001b[38;5;124m\"\u001b[39m,\n\u001b[0;32m    206\u001b[0m ]:\n\u001b[1;32m--> 207\u001b[0m     \u001b[38;5;28;01mraise\u001b[39;00m \u001b[38;5;167;01mValueError\u001b[39;00m(\u001b[38;5;124m\"\u001b[39m\u001b[38;5;124mUnknown label type: \u001b[39m\u001b[38;5;132;01m%r\u001b[39;00m\u001b[38;5;124m\"\u001b[39m \u001b[38;5;241m%\u001b[39m y_type)\n",
      "\u001b[1;31mValueError\u001b[0m: Unknown label type: 'continuous'"
     ]
    }
   ],
   "source": [
    "#Decision trees RMSE \n",
    "\n",
    "DecTree = DecisionTreeClassifier()\n",
    "DecTree.fit(X_train, Y_train.ravel())\n",
    "y_pred = DecTree.predict(X_test_V2)\n",
    "DecTree_RMSE = mean_squared_error(Y_train, y_pred,squared = False)\n",
    "DecTree_RMSE\n",
    "\n",
    "\n",
    "#DecisionTreeClassifier()"
   ]
  },
  {
   "cell_type": "code",
   "execution_count": 51,
   "id": "5bef99dc",
   "metadata": {},
   "outputs": [
    {
     "data": {
      "text/plain": [
       "0.5251003594256275"
      ]
     },
     "execution_count": 51,
     "metadata": {},
     "output_type": "execute_result"
    }
   ],
   "source": [
    "#Random forest RMSE\n",
    "random_forest = RandomForestRegressor(random_state=60)\n",
    "random_forest.fit(X_train, Y_train.ravel())\n",
    "y_pred = random_forest.predict(X_test_V2)\n",
    "random_forest_RMSE = mean_squared_error(Y_train, y_pred,squared = False)\n",
    "random_forest_RMSE "
   ]
  },
  {
   "cell_type": "code",
   "execution_count": 52,
   "id": "45aebee2",
   "metadata": {},
   "outputs": [
    {
     "data": {
      "text/plain": [
       "0.46869621043760196"
      ]
     },
     "execution_count": 52,
     "metadata": {},
     "output_type": "execute_result"
    }
   ],
   "source": [
    "#K neihgbors regressor RMSE\n",
    "\n",
    "KN_R = KNeighborsRegressor(60)\n",
    "KN_R.fit(X_train, Y_train.ravel())\n",
    "y_pred = KN_R.predict(X_test_V2)\n",
    "KN_R_RMSE = mean_squared_error(Y_train, y_pred,squared = False)\n",
    "KN_R_RMSE "
   ]
  },
  {
   "cell_type": "code",
   "execution_count": null,
   "id": "f7cec721",
   "metadata": {},
   "outputs": [],
   "source": []
  },
  {
   "cell_type": "code",
   "execution_count": 79,
   "id": "c30ed5a6",
   "metadata": {},
   "outputs": [
    {
     "ename": "ValueError",
     "evalue": "Unknown label type: 'continuous'",
     "output_type": "error",
     "traceback": [
      "\u001b[1;31m---------------------------------------------------------------------------\u001b[0m",
      "\u001b[1;31mValueError\u001b[0m                                Traceback (most recent call last)",
      "Cell \u001b[1;32mIn[79], line 3\u001b[0m\n\u001b[0;32m      1\u001b[0m \u001b[38;5;66;03m#Logistic regression RMSE\u001b[39;00m\n\u001b[0;32m      2\u001b[0m logreg\u001b[38;5;241m=\u001b[39mLogisticRegression()\n\u001b[1;32m----> 3\u001b[0m \u001b[43mlogreg\u001b[49m\u001b[38;5;241;43m.\u001b[39;49m\u001b[43mfit\u001b[49m\u001b[43m(\u001b[49m\u001b[43mX_train\u001b[49m\u001b[43m,\u001b[49m\u001b[43m \u001b[49m\u001b[43mY_train\u001b[49m\u001b[38;5;241;43m.\u001b[39;49m\u001b[43mravel\u001b[49m\u001b[43m(\u001b[49m\u001b[43m)\u001b[49m\u001b[43m)\u001b[49m\n\u001b[0;32m      4\u001b[0m y_pred \u001b[38;5;241m=\u001b[39m logreg\u001b[38;5;241m.\u001b[39mpredict(X_test_V2)\n\u001b[0;32m      5\u001b[0m logreg_RMSE \u001b[38;5;241m=\u001b[39m mean_squared_error(Y_train, y_pred,squared \u001b[38;5;241m=\u001b[39m \u001b[38;5;28;01mFalse\u001b[39;00m)\n",
      "File \u001b[1;32m~\\AppData\\Local\\Packages\\PythonSoftwareFoundation.Python.3.10_qbz5n2kfra8p0\\LocalCache\\local-packages\\Python310\\site-packages\\sklearn\\linear_model\\_logistic.py:1204\u001b[0m, in \u001b[0;36mLogisticRegression.fit\u001b[1;34m(self, X, y, sample_weight)\u001b[0m\n\u001b[0;32m   1194\u001b[0m     _dtype \u001b[38;5;241m=\u001b[39m [np\u001b[38;5;241m.\u001b[39mfloat64, np\u001b[38;5;241m.\u001b[39mfloat32]\n\u001b[0;32m   1196\u001b[0m X, y \u001b[38;5;241m=\u001b[39m \u001b[38;5;28mself\u001b[39m\u001b[38;5;241m.\u001b[39m_validate_data(\n\u001b[0;32m   1197\u001b[0m     X,\n\u001b[0;32m   1198\u001b[0m     y,\n\u001b[1;32m   (...)\u001b[0m\n\u001b[0;32m   1202\u001b[0m     accept_large_sparse\u001b[38;5;241m=\u001b[39msolver \u001b[38;5;129;01mnot\u001b[39;00m \u001b[38;5;129;01min\u001b[39;00m [\u001b[38;5;124m\"\u001b[39m\u001b[38;5;124mliblinear\u001b[39m\u001b[38;5;124m\"\u001b[39m, \u001b[38;5;124m\"\u001b[39m\u001b[38;5;124msag\u001b[39m\u001b[38;5;124m\"\u001b[39m, \u001b[38;5;124m\"\u001b[39m\u001b[38;5;124msaga\u001b[39m\u001b[38;5;124m\"\u001b[39m],\n\u001b[0;32m   1203\u001b[0m )\n\u001b[1;32m-> 1204\u001b[0m \u001b[43mcheck_classification_targets\u001b[49m\u001b[43m(\u001b[49m\u001b[43my\u001b[49m\u001b[43m)\u001b[49m\n\u001b[0;32m   1205\u001b[0m \u001b[38;5;28mself\u001b[39m\u001b[38;5;241m.\u001b[39mclasses_ \u001b[38;5;241m=\u001b[39m np\u001b[38;5;241m.\u001b[39munique(y)\n\u001b[0;32m   1207\u001b[0m multi_class \u001b[38;5;241m=\u001b[39m _check_multi_class(\u001b[38;5;28mself\u001b[39m\u001b[38;5;241m.\u001b[39mmulti_class, solver, \u001b[38;5;28mlen\u001b[39m(\u001b[38;5;28mself\u001b[39m\u001b[38;5;241m.\u001b[39mclasses_))\n",
      "File \u001b[1;32m~\\AppData\\Local\\Packages\\PythonSoftwareFoundation.Python.3.10_qbz5n2kfra8p0\\LocalCache\\local-packages\\Python310\\site-packages\\sklearn\\utils\\multiclass.py:207\u001b[0m, in \u001b[0;36mcheck_classification_targets\u001b[1;34m(y)\u001b[0m\n\u001b[0;32m    199\u001b[0m y_type \u001b[38;5;241m=\u001b[39m type_of_target(y, input_name\u001b[38;5;241m=\u001b[39m\u001b[38;5;124m\"\u001b[39m\u001b[38;5;124my\u001b[39m\u001b[38;5;124m\"\u001b[39m)\n\u001b[0;32m    200\u001b[0m \u001b[38;5;28;01mif\u001b[39;00m y_type \u001b[38;5;129;01mnot\u001b[39;00m \u001b[38;5;129;01min\u001b[39;00m [\n\u001b[0;32m    201\u001b[0m     \u001b[38;5;124m\"\u001b[39m\u001b[38;5;124mbinary\u001b[39m\u001b[38;5;124m\"\u001b[39m,\n\u001b[0;32m    202\u001b[0m     \u001b[38;5;124m\"\u001b[39m\u001b[38;5;124mmulticlass\u001b[39m\u001b[38;5;124m\"\u001b[39m,\n\u001b[1;32m   (...)\u001b[0m\n\u001b[0;32m    205\u001b[0m     \u001b[38;5;124m\"\u001b[39m\u001b[38;5;124mmultilabel-sequences\u001b[39m\u001b[38;5;124m\"\u001b[39m,\n\u001b[0;32m    206\u001b[0m ]:\n\u001b[1;32m--> 207\u001b[0m     \u001b[38;5;28;01mraise\u001b[39;00m \u001b[38;5;167;01mValueError\u001b[39;00m(\u001b[38;5;124m\"\u001b[39m\u001b[38;5;124mUnknown label type: \u001b[39m\u001b[38;5;132;01m%r\u001b[39;00m\u001b[38;5;124m\"\u001b[39m \u001b[38;5;241m%\u001b[39m y_type)\n",
      "\u001b[1;31mValueError\u001b[0m: Unknown label type: 'continuous'"
     ]
    }
   ],
   "source": [
    "#Logistic regression RMSE\n",
    "logreg=LogisticRegression()\n",
    "logreg.fit(X_train, Y_train.ravel())\n",
    "y_pred = logreg.predict(X_test_V2)\n",
    "logreg_RMSE = mean_squared_error(Y_train, y_pred,squared = False)\n",
    "logreg_RMSE "
   ]
  },
  {
   "cell_type": "code",
   "execution_count": 93,
   "id": "473717f2",
   "metadata": {},
   "outputs": [
    {
     "data": {
      "text/plain": [
       "1685038611.9655726"
      ]
     },
     "execution_count": 93,
     "metadata": {},
     "output_type": "execute_result"
    }
   ],
   "source": [
    "#Linear regression RMSE\n",
    "linReg=LinearRegression()\n",
    "linReg.fit(X_train, Y_train.ravel())\n",
    "y_pred = linReg.predict(X_test_V2)\n",
    "linReg_RMSE = mean_squared_error(Y_train, y_pred,squared = False)\n",
    "linReg_RMSE "
   ]
  },
  {
   "cell_type": "code",
   "execution_count": 109,
   "id": "bde9432e",
   "metadata": {},
   "outputs": [
    {
     "ename": "AttributeError",
     "evalue": "'PCA' object has no attribute 'predict'",
     "output_type": "error",
     "traceback": [
      "\u001b[1;31m---------------------------------------------------------------------------\u001b[0m",
      "\u001b[1;31mAttributeError\u001b[0m                            Traceback (most recent call last)",
      "Cell \u001b[1;32mIn[109], line 4\u001b[0m\n\u001b[0;32m      2\u001b[0m pca\u001b[38;5;241m=\u001b[39mPCA()\n\u001b[0;32m      3\u001b[0m pca\u001b[38;5;241m.\u001b[39mfit(X_train, Y_train\u001b[38;5;241m.\u001b[39mravel())\n\u001b[1;32m----> 4\u001b[0m y_pred \u001b[38;5;241m=\u001b[39m \u001b[43mpca\u001b[49m\u001b[38;5;241;43m.\u001b[39;49m\u001b[43mpredict\u001b[49m(X_test_V2)\n\u001b[0;32m      5\u001b[0m pca_RMSE \u001b[38;5;241m=\u001b[39m mean_squared_error(Y_train, y_pred,squared \u001b[38;5;241m=\u001b[39m \u001b[38;5;28;01mFalse\u001b[39;00m)\n\u001b[0;32m      6\u001b[0m pca_RMSE \n",
      "\u001b[1;31mAttributeError\u001b[0m: 'PCA' object has no attribute 'predict'"
     ]
    }
   ],
   "source": [
    "\n",
    "from sklearn.decomposition import PCA\n",
    "pca=PCA()\n",
    "pca.fit(X_train, Y_train.ravel())\n",
    "y_pred = pca.predict(X_test_V2)\n",
    "pca_RMSE = mean_squared_error(Y_train, y_pred,squared = False)\n",
    "pca_RMSE "
   ]
  },
  {
   "cell_type": "code",
   "execution_count": 54,
   "id": "ea5f3614",
   "metadata": {},
   "outputs": [
    {
     "ename": "NameError",
     "evalue": "name 'gradient_boosted_RMSE' is not defined",
     "output_type": "error",
     "traceback": [
      "\u001b[1;31m---------------------------------------------------------------------------\u001b[0m",
      "\u001b[1;31mNameError\u001b[0m                                 Traceback (most recent call last)",
      "Cell \u001b[1;32mIn[54], line 5\u001b[0m\n\u001b[0;32m      1\u001b[0m model_comparison \u001b[38;5;241m=\u001b[39m pd\u001b[38;5;241m.\u001b[39mDataFrame({\u001b[38;5;124m'\u001b[39m\u001b[38;5;124mmodel\u001b[39m\u001b[38;5;124m'\u001b[39m: [ \u001b[38;5;124m'\u001b[39m\u001b[38;5;124mSupport Vector Machine\u001b[39m\u001b[38;5;124m'\u001b[39m,\n\u001b[0;32m      2\u001b[0m                                            \u001b[38;5;124m'\u001b[39m\u001b[38;5;124mRandom Forest\u001b[39m\u001b[38;5;124m'\u001b[39m, \u001b[38;5;124m'\u001b[39m\u001b[38;5;124mGradient Boosted\u001b[39m\u001b[38;5;124m'\u001b[39m,\n\u001b[0;32m      3\u001b[0m                                             \u001b[38;5;124m'\u001b[39m\u001b[38;5;124mK-Nearest Neighbors\u001b[39m\u001b[38;5;124m'\u001b[39m, \u001b[38;5;124m'\u001b[39m\u001b[38;5;124mBagging\u001b[39m\u001b[38;5;124m'\u001b[39m],\n\u001b[0;32m      4\u001b[0m                                  \u001b[38;5;124m'\u001b[39m\u001b[38;5;124mRMSE\u001b[39m\u001b[38;5;124m'\u001b[39m: [svr_RMSE, random_forest_RMSE, \n\u001b[1;32m----> 5\u001b[0m                                          \u001b[43mgradient_boosted_RMSE\u001b[49m, knn_RMSE,bagging_RMSE]})\n\u001b[0;32m      7\u001b[0m model_comparison\u001b[38;5;241m.\u001b[39msort_values(\u001b[38;5;124m'\u001b[39m\u001b[38;5;124mRMSE\u001b[39m\u001b[38;5;124m'\u001b[39m, ascending \u001b[38;5;241m=\u001b[39m \u001b[38;5;28;01mFalse\u001b[39;00m)\u001b[38;5;241m.\u001b[39mplot(x \u001b[38;5;241m=\u001b[39m \u001b[38;5;124m'\u001b[39m\u001b[38;5;124mmodel\u001b[39m\u001b[38;5;124m'\u001b[39m,\n\u001b[0;32m      8\u001b[0m                                                              y \u001b[38;5;241m=\u001b[39m \u001b[38;5;124m'\u001b[39m\u001b[38;5;124mRMSE\u001b[39m\u001b[38;5;124m'\u001b[39m, kind \u001b[38;5;241m=\u001b[39m \u001b[38;5;124m'\u001b[39m\u001b[38;5;124mbarh\u001b[39m\u001b[38;5;124m'\u001b[39m, color \u001b[38;5;241m=\u001b[39m \u001b[38;5;124m'\u001b[39m\u001b[38;5;124mred\u001b[39m\u001b[38;5;124m'\u001b[39m,\n\u001b[0;32m      9\u001b[0m                                                              edgecolor \u001b[38;5;241m=\u001b[39m \u001b[38;5;124m'\u001b[39m\u001b[38;5;124mblack\u001b[39m\u001b[38;5;124m'\u001b[39m, figsize \u001b[38;5;241m=\u001b[39m (\u001b[38;5;241m10\u001b[39m,\u001b[38;5;241m4\u001b[39m))\n\u001b[0;32m     10\u001b[0m plt\u001b[38;5;241m.\u001b[39mxlabel(\u001b[38;5;124m'\u001b[39m\u001b[38;5;124mRoot Mean Squared Error\u001b[39m\u001b[38;5;124m'\u001b[39m)\n",
      "\u001b[1;31mNameError\u001b[0m: name 'gradient_boosted_RMSE' is not defined"
     ]
    }
   ],
   "source": [
    "model_comparison = pd.DataFrame({'model': [ 'Support Vector Machine',\n",
    "                                           'Random Forest', 'Gradient Boosted',\n",
    "                                            'K-Nearest Neighbors', 'Bagging'],\n",
    "                                 'RMSE': [svr_RMSE, random_forest_RMSE, \n",
    "                                         gradient_boosted_RMSE, knn_RMSE,bagging_RMSE]})\n",
    "\n",
    "model_comparison.sort_values('RMSE', ascending = False).plot(x = 'model',\n",
    "                                                             y = 'RMSE', kind = 'barh', color = 'red',\n",
    "                                                             edgecolor = 'black', figsize = (10,4))\n",
    "plt.xlabel('Root Mean Squared Error')\n",
    "plt.title('Model Comparison on Test RMSE')\n",
    "plt.show()"
   ]
  },
  {
   "cell_type": "code",
   "execution_count": null,
   "id": "99571731",
   "metadata": {},
   "outputs": [],
   "source": []
  },
  {
   "cell_type": "code",
   "execution_count": null,
   "id": "0508c85f",
   "metadata": {},
   "outputs": [],
   "source": []
  },
  {
   "cell_type": "code",
   "execution_count": null,
   "id": "d3c022a5",
   "metadata": {},
   "outputs": [],
   "source": []
  },
  {
   "cell_type": "code",
   "execution_count": null,
   "id": "304201dc",
   "metadata": {},
   "outputs": [],
   "source": []
  },
  {
   "cell_type": "code",
   "execution_count": null,
   "id": "ebc4141b",
   "metadata": {
    "ExecuteTime": {
     "end_time": "2022-11-24T10:32:28.861253Z",
     "start_time": "2022-11-24T10:32:28.850505Z"
    }
   },
   "outputs": [],
   "source": [
    "indexTest=df_test.index\n",
    "SalePrices=df_test['SalePrice'] # to execute at the end when price is predicted\n",
    "# Save your predictions\n",
    "df_results = pd.DataFrame(index=indexTest,data={'SalePrice':SalePrices}) #remplacer le deux\n",
    "df_results.to_csv(\"results.csv\", index_label='id')\n",
    "df_results.head()"
   ]
  },
  {
   "cell_type": "code",
   "execution_count": null,
   "id": "a32de1fc",
   "metadata": {},
   "outputs": [],
   "source": []
  }
 ],
 "metadata": {
  "kernelspec": {
   "display_name": "Python 3 (ipykernel)",
   "language": "python",
   "name": "python3"
  },
  "language_info": {
   "codemirror_mode": {
    "name": "ipython",
    "version": 3
   },
   "file_extension": ".py",
   "mimetype": "text/x-python",
   "name": "python",
   "nbconvert_exporter": "python",
   "pygments_lexer": "ipython3",
   "version": "3.10.9"
  },
  "latex_envs": {
   "LaTeX_envs_menu_present": true,
   "autoclose": true,
   "autocomplete": true,
   "bibliofile": "biblio.bib",
   "cite_by": "apalike",
   "current_citInitial": 1,
   "eqLabelWithNumbers": true,
   "eqNumInitial": 1,
   "hotkeys": {
    "equation": "Ctrl-E",
    "itemize": "Ctrl-I"
   },
   "labels_anchors": false,
   "latex_user_defs": false,
   "report_style_numbering": false,
   "user_envs_cfg": false
  },
  "nbTranslate": {
   "displayLangs": [
    "*"
   ],
   "hotkey": "alt-t",
   "langInMainMenu": true,
   "sourceLang": "en",
   "targetLang": "fr",
   "useGoogleTranslate": true
  }
 },
 "nbformat": 4,
 "nbformat_minor": 5
}
